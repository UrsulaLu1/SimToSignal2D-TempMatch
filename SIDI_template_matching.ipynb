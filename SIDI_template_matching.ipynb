{
 "cells": [
  {
   "cell_type": "code",
   "execution_count": null,
   "id": "1bc6c6cb-1cef-4359-abe0-d3001a29459b",
   "metadata": {},
   "outputs": [],
   "source": [
    "%matplotlib  qt"
   ]
  },
  {
   "cell_type": "code",
   "execution_count": 1,
   "id": "55ad4113-a854-49c2-9ca1-659d063a7498",
   "metadata": {},
   "outputs": [
    {
     "name": "stderr",
     "output_type": "stream",
     "text": [
      "WARNING:silx.opencl.common:Unable to import pyOpenCl. Please install it from: https://pypi.org/project/pyopencl\n"
     ]
    }
   ],
   "source": [
    "import numpy as np\n",
    "import matplotlib.pyplot as plt\n",
    "import hyperspy.api as hs\n",
    "import numpy as np\n",
    "import pyxem as pxm\n",
    "\n",
    "from diffsims.generators.diffraction_generator import DiffractionGenerator\n",
    "from diffsims.libraries.structure_library import StructureLibrary\n",
    "from diffsims.generators.library_generator import DiffractionLibraryGenerator\n",
    "from diffsims.generators.zap_map_generator import get_rotation_from_z_to_direction\n",
    "from pyxem.generators.indexation_generator import IndexationGenerator\n",
    "from hyperspy.signals import Signal2D\n",
    "\n",
    "#from pyxem.utils.indexation_utils import peaks_from_best_template\n"
   ]
  },
  {
   "cell_type": "code",
   "execution_count": 5,
   "id": "ef6c26bd-70bb-4278-950c-ff9a63371063",
   "metadata": {},
   "outputs": [],
   "source": [
    "dp = hs.load(r'C:\\Users\\ursulal\\OneDrive - NTNU\\2023_SIDI_project_ELKEM\\20240104_SIDILam1\\20240104_114935\\cropped_centered.hspy')"
   ]
  },
  {
   "cell_type": "code",
   "execution_count": null,
   "id": "671b0193-2cb7-47b6-b370-c5290b397bdb",
   "metadata": {},
   "outputs": [],
   "source": [
    "roi = hs.roi.RectangularROI(left=30, right=100, top=20, bottom=100)\n",
    "dp.plot(norm='symlog')\n",
    "roi.add_widget(dp)\n"
   ]
  },
  {
   "cell_type": "code",
   "execution_count": null,
   "id": "8df7f16f-87d0-42c3-b323-cd69f0fb5b69",
   "metadata": {},
   "outputs": [],
   "source": [
    "dp = roi(dp)"
   ]
  },
  {
   "cell_type": "code",
   "execution_count": null,
   "id": "c0af2acd-f104-4c3b-8283-2e765e65557c",
   "metadata": {},
   "outputs": [],
   "source": [
    "rebinned = dp.rebin(scale=(1, 1, 2,2))"
   ]
  },
  {
   "cell_type": "code",
   "execution_count": null,
   "id": "bd25a547-c5bd-4cad-a494-f4831c2fefd9",
   "metadata": {},
   "outputs": [],
   "source": [
    "dp.plot()"
   ]
  },
  {
   "cell_type": "code",
   "execution_count": null,
   "id": "58fb6137-f6eb-4455-ac5b-1b9267f3a683",
   "metadata": {},
   "outputs": [],
   "source": [
    "rebinned.plot()"
   ]
  },
  {
   "cell_type": "code",
   "execution_count": null,
   "id": "e3e5d604-c438-4d15-acbe-a6eec020c139",
   "metadata": {},
   "outputs": [],
   "source": [
    "dp = rebinned # to test things - binning in signal space"
   ]
  },
  {
   "cell_type": "code",
   "execution_count": 6,
   "id": "cc78ad4d-5ebf-4958-b99c-5f1a6d7b2944",
   "metadata": {},
   "outputs": [
    {
     "data": {
      "text/html": [
       "<style>\n",
       "table, th, td {\n",
       "\tborder: 1px solid black;\n",
       "\tborder-collapse: collapse;\n",
       "}\n",
       "th, td {\n",
       "\tpadding: 5px;\n",
       "}\n",
       "</style>\n",
       "<p><b>< Axes manager, axes: (70, 80|256, 256) ></b></p>\n",
       "<table style='width:100%'>\n",
       "\n",
       "<tr> \n",
       "<th>Navigation axis name</th> \n",
       "<th>size</th> \n",
       "<th>index</th> \n",
       "<th>offset</th> \n",
       "<th>scale</th> \n",
       "<th>units</th> </tr>\n",
       "<tr> \n",
       "<td><undefined></td> \n",
       "<td>70</td> \n",
       "<td>0</td> \n",
       "<td>63.0</td> \n",
       "<td>100.47</td> \n",
       "<td>A</td> </tr>\n",
       "<tr> \n",
       "<td><undefined></td> \n",
       "<td>80</td> \n",
       "<td>0</td> \n",
       "<td>81.0</td> \n",
       "<td>100.47</td> \n",
       "<td>A</td> </tr></table>\n",
       "<table style='width:100%'>\n",
       "\n",
       "<tr> \n",
       "<th>Signal axis name</th> \n",
       "<th>size</th> \n",
       "<th></th> \n",
       "<th>offset</th> \n",
       "<th>scale</th> \n",
       "<th>units</th> </tr>\n",
       "<tr> \n",
       "<td><undefined></td> \n",
       "<td>256</td> \n",
       "<td></td> \n",
       "<td>0.0</td> \n",
       "<td>0.009953219866626855</td> \n",
       "<td>1/A</td> </tr>\n",
       "<tr> \n",
       "<td><undefined></td> \n",
       "<td>256</td> \n",
       "<td></td> \n",
       "<td>0.0</td> \n",
       "<td>0.009953219866626855</td> \n",
       "<td>1/A</td> </tr></table>\n"
      ],
      "text/plain": [
       "<Axes manager, axes: (70, 80|256, 256)>\n",
       "            Name |   size |  index |  offset |   scale |  units \n",
       "================ | ====== | ====== | ======= | ======= | ====== \n",
       "     <undefined> |     70 |      0 |      63 |   1e+02 |      A \n",
       "     <undefined> |     80 |      0 |      81 |   1e+02 |      A \n",
       "---------------- | ------ | ------ | ------- | ------- | ------ \n",
       "     <undefined> |    256 |      0 |       0 |    0.01 |    1/A \n",
       "     <undefined> |    256 |      0 |       0 |    0.01 |    1/A "
      ]
     },
     "execution_count": 6,
     "metadata": {},
     "output_type": "execute_result"
    }
   ],
   "source": [
    "dp.axes_manager[0].scale = 100.47\n",
    "dp.axes_manager[1].scale = 100.47\n",
    "dp.axes_manager[2].scale = 1/100.47\n",
    "dp.axes_manager[3].scale = 1/100.47\n",
    "dp.axes_manager[0].units = \"A\"\n",
    "dp.axes_manager[1].units = \"A\"\n",
    "dp.axes_manager[2].units = \"1/A\"\n",
    "dp.axes_manager[3].units = \"1/A\"\n",
    "dp.axes_manager"
   ]
  },
  {
   "cell_type": "code",
   "execution_count": null,
   "id": "7cfddb75-b8d1-4f3d-ab62-205d06ba9315",
   "metadata": {},
   "outputs": [],
   "source": [
    "%matplotlib  inline"
   ]
  },
  {
   "cell_type": "markdown",
   "id": "21acfe90-88fb-4af6-932b-adbb9864bcbd",
   "metadata": {},
   "source": [
    "## 1. Visualising the SPED dataset\n",
    "A quick way to get an overview of all the diffraction spots within the dataset, is to plot the maximum intensity with repsect to detector position. We can also look at the average to get a quick impression of the dataset."
   ]
  },
  {
   "cell_type": "code",
   "execution_count": null,
   "id": "84c24315-f693-4f1e-80b0-88446c2e68fa",
   "metadata": {},
   "outputs": [],
   "source": [
    "dp_max = dp.max()\n",
    "dp_mean = dp.mean()"
   ]
  },
  {
   "cell_type": "markdown",
   "id": "e3cc3bc3-42ca-4123-a255-7de07a2f780e",
   "metadata": {},
   "source": [
    "The colormap used in matplotlib can be specified when plotting a hyperpsy signal. For demonstration purposes various of the perceptially uniform colormaps is used within this notebook. An overview of available colourmaps can be found on the Matplotlib pages: https://matplotlib.org/3.5.0/tutorials/colors/colormaps.html"
   ]
  },
  {
   "cell_type": "code",
   "execution_count": null,
   "id": "23002e51-bcee-402c-b9b0-9b5c380a20f8",
   "metadata": {},
   "outputs": [],
   "source": [
    "dp_max.plot(cmap='inferno', norm='log')\n",
    "dp_mean.plot(cmap='inferno', norm='log')"
   ]
  },
  {
   "cell_type": "markdown",
   "id": "9bcc4433-c5db-4b57-a74b-3320c7dd0a79",
   "metadata": {},
   "source": [
    "Plot the SPED signal and navigate thorugh it to see the various precipitate reflections appearing."
   ]
  },
  {
   "cell_type": "code",
   "execution_count": null,
   "id": "6f232cf8-402a-419c-9990-4ac8e3af8507",
   "metadata": {},
   "outputs": [],
   "source": [
    "dp.plot(cmap='magma')"
   ]
  },
  {
   "cell_type": "markdown",
   "id": "d966b537-41b3-4522-ba49-87b22eda87ad",
   "metadata": {},
   "source": [
    "Plotting the patterns on a log scale makes it easier to see the weak precipitate Bragg spots. This can also be achieved by right clicking on the pattern and pressing 'l' on the keyboard."
   ]
  },
  {
   "cell_type": "code",
   "execution_count": null,
   "id": "f8034e02-3563-46aa-b849-d7ee4e9587a4",
   "metadata": {},
   "outputs": [],
   "source": [
    "dp.plot(cmap='magma_r', norm='symlog')"
   ]
  },
  {
   "cell_type": "markdown",
   "id": "dfac91cf-e66b-42db-8587-db2a89bd1eeb",
   "metadata": {},
   "source": [
    "The axes manager is useful to see the size of the dataset and the calibrations in both real and reciprocal space. Double check the scaling."
   ]
  },
  {
   "cell_type": "code",
   "execution_count": null,
   "id": "86ea102e-b13f-4140-b4cf-3c0b93bb9ee6",
   "metadata": {},
   "outputs": [],
   "source": [
    "dp.axes_manager"
   ]
  },
  {
   "cell_type": "markdown",
   "id": "bbdaa405-8a0f-4629-b6a6-18902dc327c8",
   "metadata": {},
   "source": [
    "We save the calibration in reciprocal space to a variable, for easy use later."
   ]
  },
  {
   "cell_type": "code",
   "execution_count": 7,
   "id": "fa5079fa-0bbc-470d-af1c-fce7686fa32a",
   "metadata": {},
   "outputs": [
    {
     "data": {
      "text/plain": [
       "0.009953219866626855"
      ]
     },
     "execution_count": 7,
     "metadata": {},
     "output_type": "execute_result"
    }
   ],
   "source": [
    "calibration = dp.axes_manager[2].scale\n",
    "calibration"
   ]
  },
  {
   "cell_type": "markdown",
   "id": "a6cbc0e9-91ae-42eb-a553-9c87bb96c531",
   "metadata": {},
   "source": [
    "Virtual imaging can readily be done by defining a region of interest, which will be used as our integration window. We will use a circular aperture to obtan virtual STEM imaging. We can define a virtual bright field (VBF), virtual annular dark field (VADF), or a virtual dark field (VDF) aperture. For this dataset, the precipitates appear bright especially if a VADF aperture is placed in between the spots.\r\n",
    "\r\n"
   ]
  },
  {
   "cell_type": "code",
   "execution_count": null,
   "id": "233da8c4-85b4-47a0-9c83-5830f9790d4b",
   "metadata": {},
   "outputs": [],
   "source": [
    "roi = hs.roi.CircleROI(cx=0, cy=0, r=20*calibration, r_inner=10*calibration)"
   ]
  },
  {
   "cell_type": "markdown",
   "id": "1fc841ac-5c9b-47d4-9b24-7244834f66ce",
   "metadata": {},
   "source": [
    "We can plot the integrated intensity from within the integration window, which will appear in a new window. You can use the navigator to move to a new scan position, and you can use the mouse to move the virtual aperture and change its size.\r\n",
    "\r\n"
   ]
  },
  {
   "cell_type": "code",
   "execution_count": null,
   "id": "b7f9ed14-d2e7-4c3b-900b-a8d5896b45f1",
   "metadata": {},
   "outputs": [],
   "source": [
    "dp.plot_integrated_intensity(roi)"
   ]
  },
  {
   "cell_type": "markdown",
   "id": "1e06380b-d276-47b1-bcfb-004a08fe8a5b",
   "metadata": {},
   "source": [
    "The value of 'roi' is updated as you drag it around and change its size using the mouse. Print out the current 'roi'."
   ]
  },
  {
   "cell_type": "code",
   "execution_count": null,
   "id": "c4af2e1c-1d2c-4395-812d-78cc0930aa3e",
   "metadata": {},
   "outputs": [],
   "source": [
    "roi"
   ]
  },
  {
   "cell_type": "markdown",
   "id": "17bd01b1-5fbe-4634-afb1-5c7b17d62d08",
   "metadata": {},
   "source": [
    "## Blob detection using scikit image"
   ]
  },
  {
   "cell_type": "markdown",
   "id": "6303b56e-ae2b-4b01-b97d-b2b5e24ba322",
   "metadata": {},
   "source": [
    "# Masking out background\n",
    "Now that blob detection works, set the background outside the spts to -1"
   ]
  },
  {
   "cell_type": "code",
   "execution_count": null,
   "id": "00cff802-4493-472e-a5ab-ee0dfdeee499",
   "metadata": {},
   "outputs": [],
   "source": [
    "len(dp.data)"
   ]
  },
  {
   "cell_type": "code",
   "execution_count": null,
   "id": "67d324e7-2e4c-4fc6-9027-315f38857c80",
   "metadata": {},
   "outputs": [],
   "source": [
    "import numpy as np\n",
    "from skimage.feature import blob_log\n",
    "from skimage import draw\n",
    "from skimage.transform import rescale\n",
    "from scipy.ndimage import gaussian_filter\n",
    "import hyperspy.api as hs\n",
    "\n",
    "# Parameters for blob detection\n",
    "max_sigma = 30\n",
    "threshold = 3\n",
    "diffraction_patterns = dp.data\n",
    "diffraction_patterns = gaussian_filter(dp.data, sigma = 1)\n",
    "\n",
    "# Create an empty array to store the summed intensities\n",
    "summed_intensities = np.empty((diffraction_patterns.shape[0], diffraction_patterns.shape[1]))\n",
    "\n",
    "# Initialize processed_patterns with zero arrays instead of None\n",
    "processed_patterns = np.zeros_like(diffraction_patterns)\n",
    "for i in range(processed_patterns.shape[0]):\n",
    "    for j in range(processed_patterns.shape[1]):\n",
    "        processed_patterns[i, j] = np.zeros((256, 256))\n",
    "        \n",
    "# Process each diffraction pattern\n",
    "for row in range(diffraction_patterns.shape[0]):\n",
    "    for col in range(diffraction_patterns.shape[1]):\n",
    "        pattern = diffraction_patterns[row, col].copy()  # Make a copy of the pattern\n",
    "\n",
    "        # Detect blobs using LoG method\n",
    "        blobs = blob_log(pattern, max_sigma=max_sigma, threshold=threshold)\n",
    "        blobs[:, 2] = blobs[:, 2] * np.sqrt(2)  # Compute radii\n",
    "\n",
    "        # Create a high resolution mask with the same shape as the pattern, initialized with -1\n",
    "        mask = np.full_like(pattern, -1, dtype=np.float64)\n",
    "        mask_high_res = rescale(mask, 10, order=0, mode='constant', cval=-1, clip=True, preserve_range=True)\n",
    "\n",
    "        # Draw blobs onto the high resolution mask\n",
    "        for blob in blobs:\n",
    "            y, x, r = blob\n",
    "            rr, cc = draw.disk((y*10, x*10), r*10, shape=mask_high_res.shape)\n",
    "            mask_high_res[rr, cc] = 1  # Set the pixel values at the blob locations to 1 in the mask\n",
    "\n",
    "        # Downsample the high resolution mask to the original resolution\n",
    "        mask = rescale(mask_high_res, 0.1, order=1, mode='reflect', cval=0, clip=True, preserve_range=True)\n",
    "        mask = np.round(mask).astype(np.int64)\n",
    "\n",
    "        # Set the area outside the blobs to -1\n",
    "        pattern[mask == -1] = -1\n",
    "\n",
    "        # Only add the pattern to the processed_patterns array if it is not None\n",
    "        if pattern is not None:\n",
    "            processed_patterns[row, col] = pattern\n",
    "            \n",
    "        # Create an empty array to store the summed intensities\n",
    "        summed_intensities = np.empty((len(dp.data), len(dp.data)))\n",
    "\n",
    "        # Sum the intensities of the pattern and store it in the summed_intensities array\n",
    "        for i in range(len(dp.data)):\n",
    "            for j in range(len(dp.data)):\n",
    "                summed_intensities[i, j] = np.sum(processed_patterns[i, j])\n",
    "\n",
    "# Create a Signal2D object with the summed intensities as the navigation signal\n",
    "navigator = hs.signals.Signal2D(summed_intensities)\n",
    "\n",
    "# Create a Diffraction2D hyperspy object with the processed patterns as the signal\n",
    "dp_blob_diffraction = hs.signals.Signal2D(processed_patterns)\n",
    "\n",
    "# Transpose the axes of the Diffraction2D object\n",
    "dp_blob_diffraction = dp_blob_diffraction.transpose(signal_axes=[2, 3], navigation_axes=[0, 1])\n",
    "\n",
    "# Set the navigator of the Diffraction2D object\n",
    "dp_blob_diffraction.plot(navigator=navigator)\n"
   ]
  },
  {
   "cell_type": "code",
   "execution_count": null,
   "id": "a3979941-1d9d-4f86-9441-1ef064d29683",
   "metadata": {},
   "outputs": [],
   "source": [
    "dp_blob_diffraction.save(r'C:\\Users\\ursulal\\OneDrive - NTNU\\2023_SIDI_project_ELKEM\\20240104_SIDILam1\\20240104_114935\\dp_masked.hspy')"
   ]
  },
  {
   "cell_type": "code",
   "execution_count": null,
   "id": "9c1a93b5-7aa9-4380-8417-61137701e14b",
   "metadata": {},
   "outputs": [],
   "source": [
    "dp = dp_blob_diffraction"
   ]
  },
  {
   "cell_type": "code",
   "execution_count": null,
   "id": "78562772-21ee-4ae5-be71-55dd61bd0ade",
   "metadata": {},
   "outputs": [],
   "source": [
    "dp.plot()"
   ]
  },
  {
   "cell_type": "markdown",
   "id": "8307b659-eb42-461b-8fdf-a6c59e86d940",
   "metadata": {},
   "source": [
    "## An attempt of vectorization and parallelization - 240315"
   ]
  },
  {
   "cell_type": "code",
   "execution_count": null,
   "id": "bc220296-4f7d-4b99-bc16-d6169525ca6a",
   "metadata": {},
   "outputs": [],
   "source": [
    "import numpy as np\n",
    "from skimage.feature import blob_log\n",
    "from skimage import draw\n",
    "from skimage.transform import rescale\n",
    "import hyperspy.api as hs\n",
    "from multiprocessing import Pool\n",
    "from scipy.ndimage import gaussian_filter\n",
    "\n",
    "# Parameters for blob detection\n",
    "max_sigma = 30\n",
    "threshold = 4\n",
    "diffraction_patterns = dp.data\n",
    "diffraction_patterns = gaussian_filter(dp.data, sigma = 1)\n",
    "\n",
    "# Initialize processed_patterns with zero arrays instead of None\n",
    "processed_patterns = np.zeros_like(diffraction_patterns)\n"
   ]
  },
  {
   "cell_type": "code",
   "execution_count": null,
   "id": "a9c968b5-74b7-4f13-9dbe-1f5e486cee11",
   "metadata": {},
   "outputs": [],
   "source": [
    "def process_pattern(pattern):\n",
    "    # Detect blobs using LoG method\n",
    "    blobs = blob_log(pattern, max_sigma=max_sigma, threshold=threshold)\n",
    "    blobs[:, 2] = blobs[:, 2] * np.sqrt(2)  # Compute radii\n",
    "\n",
    "    # Create a high resolution mask with the same shape as the pattern, initialized with -1\n",
    "    mask = np.full_like(pattern, -1, dtype=np.float64)\n",
    "    mask_high_res = rescale(mask, 10, order=0, mode='constant', cval=-1, clip=True, preserve_range=True)\n",
    "\n",
    "    # Draw blobs onto the high resolution mask\n",
    "    for blob in blobs:\n",
    "        y, x, r = blob\n",
    "        rr, cc = draw.disk((y*10, x*10), r*10, shape=mask_high_res.shape)\n",
    "        mask_high_res[rr, cc] = 1  # Set the pixel values at the blob locations to 1 in the mask\n",
    "\n",
    "    # Downsample the high resolution mask to the original resolution\n",
    "    mask = rescale(mask_high_res, 0.1, order=1, mode='reflect', cval=0, clip=True, preserve_range=True)\n",
    "    mask = np.round(mask).astype(np.int64)\n",
    "\n",
    "    # Set the area outside the blobs to -1\n",
    "    pattern[mask == -1] = -1\n",
    "\n",
    "    return pattern\n"
   ]
  },
  {
   "cell_type": "code",
   "execution_count": null,
   "id": "b188e1e9-a9be-4b7d-9800-31f1cbb4c650",
   "metadata": {},
   "outputs": [],
   "source": [
    "# Create a pool of workers\n",
    "with Pool() as p:\n",
    "    # Flatten the diffraction_patterns array and apply the process_pattern function to each pattern\n",
    "    processed_patterns = np.array(p.map(process_pattern, diffraction_patterns.reshape(-1, diffraction_patterns.shape[-1], diffraction_patterns.shape[-1])))\n"
   ]
  },
  {
   "cell_type": "code",
   "execution_count": null,
   "id": "91ed666b-e8f8-464e-acf1-808958f9b285",
   "metadata": {},
   "outputs": [],
   "source": [
    "# Reshape the processed_patterns array back to its original shape\n",
    "processed_patterns = processed_patterns.reshape(diffraction_patterns.shape)\n",
    "\n",
    "# Sum the intensities of the pattern and store it in the summed_intensities array\n",
    "summed_intensities = np.sum(processed_patterns, axis=(2,3))\n",
    "\n",
    "# Create a Signal2D object with the summed intensities as the navigation signal\n",
    "navigator = hs.signals.Signal2D(summed_intensities)\n",
    "\n",
    "# Create a Diffraction2D hyperspy object with the processed patterns as the signal\n",
    "dp_blob_diffraction = hs.signals.Signal2D(processed_patterns)\n",
    "\n",
    "# Transpose the axes of the Diffraction2D object\n",
    "dp_blob_diffraction = dp_blob_diffraction.transpose(signal_axes=[2, 3], navigation_axes=[0, 1])\n",
    "\n",
    "# Set the navigator of the Diffraction2D object\n",
    "dp_blob_diffraction.plot(navigator=navigator)\n"
   ]
  },
  {
   "cell_type": "code",
   "execution_count": null,
   "id": "4cb2881c-0105-4609-b842-df31e7b8d8e4",
   "metadata": {},
   "outputs": [],
   "source": [
    "dp.find_peaks()"
   ]
  },
  {
   "cell_type": "markdown",
   "id": "6e5887f9-2867-4d94-9316-3f706d665f7f",
   "metadata": {},
   "source": [
    "# Blob  detection using hyperspy map function \n",
    "It seems that the map function is slower"
   ]
  },
  {
   "cell_type": "code",
   "execution_count": null,
   "id": "dc94140e-ecc7-4f19-a23a-6b51f09a73e2",
   "metadata": {
    "scrolled": true
   },
   "outputs": [],
   "source": [
    "import numpy as np\n",
    "from skimage.feature import blob_log\n",
    "from skimage import draw\n",
    "from scipy.ndimage import gaussian_filter\n",
    "import hyperspy.api as hs\n",
    "\n",
    "# Parameters for blob detection\n",
    "max_sigma = 30\n",
    "threshold = 5\n",
    "diffraction_patterns = gaussian_filter(dp.data, sigma = 1)# dp.data #\n",
    "\n",
    "# the simulated patterns we need a mean radius \n",
    "r_list = []\n",
    "\n",
    "# Define a function to process a diffraction pattern\n",
    "def process_diffraction_pattern(pattern):\n",
    "    # Detect blobs using LoG method\n",
    "    blobs = blob_log(pattern, max_sigma=max_sigma, threshold=threshold)\n",
    "    blobs[:, 2] = blobs[:, 2] * np.sqrt(2)  # Compute radii in the correct scale\n",
    "\n",
    "    # Create a mask with the same shape as the pattern, initialized with -1\n",
    "    mask = np.full_like(pattern, -1)\n",
    "\n",
    "    # Draw blobs onto the mask\n",
    "    for blob in blobs:\n",
    "        y, x, r = blob\n",
    "        r_list.append(r)\n",
    "        rr, cc = draw.disk((y, x), r, shape=pattern.shape)\n",
    "        mask[rr, cc] = 1  # Set the pixel values at the blob locations to 1 in the mask\n",
    "\n",
    "    # Set the area outside the blobs to -1\n",
    "    pattern[mask == -1] = -1\n",
    "\n",
    "    return pattern\n",
    "\n",
    "# Apply the function to each diffraction pattern in the dataset\n",
    "dp.map(process_diffraction_pattern, inplace=True)\n",
    "\n",
    "# Now let's plot the processed patterns with overlays\n",
    "dp.plot()\n"
   ]
  },
  {
   "cell_type": "markdown",
   "id": "74bca83b-5029-4700-b7f8-b8465de34e7d",
   "metadata": {},
   "source": [
    "## The mean value of the diffraction disks & mean value in \n"
   ]
  },
  {
   "cell_type": "code",
   "execution_count": null,
   "id": "686ead9d-6541-4079-9779-0df41bf0914d",
   "metadata": {},
   "outputs": [],
   "source": [
    "avg_r = np.mean(r_list)"
   ]
  },
  {
   "cell_type": "code",
   "execution_count": null,
   "id": "21969864-94e7-4444-b121-dd2ddcf160cd",
   "metadata": {},
   "outputs": [],
   "source": []
  },
  {
   "cell_type": "markdown",
   "id": "fc1b95e8-e455-406d-ae63-08da0e62e443",
   "metadata": {},
   "source": [
    "## Creating template libraries\n",
    "Sampling orientations and simulating diffraction\n",
    "# Finding the in-plane rotation of the average pattern\n",
    "Import the crystal information file (cif) for each of the  phases using diffpy. This file contains information on the space group, lattice parameters, atom sites, atom types and site occupations."
   ]
  },
  {
   "cell_type": "code",
   "execution_count": 4,
   "id": "6f70e16a-4f8c-4ce8-b342-658d031f8eb0",
   "metadata": {},
   "outputs": [],
   "source": [
    "import diffpy\n",
    "structure_aFe = diffpy.structure.loadStructure(r'C:\\Users\\ursulal\\OneDrive - NTNU\\2023_SIDI_project_ELKEM\\cif\\Fe_mp-13_conventional_standard.cif')\n",
    "structure_FeC = diffpy.structure.loadStructure(r'C:\\Users\\ursulal\\OneDrive - NTNU\\2023_SIDI_project_ELKEM\\cif\\Fe3C_mp-510623_conventional_standard.cif')\n",
    "structure_MnS = diffpy.structure.loadStructure(r'C:\\Users\\ursulal\\OneDrive - NTNU\\2023_SIDI_project_ELKEM\\cif\\MnS.cif')"
   ]
  },
  {
   "cell_type": "markdown",
   "id": "dd3ec334-46ad-474a-9a62-f22b0732483c",
   "metadata": {},
   "source": [
    "Set up a diffraction generator using diffsims. This generator contains information on the microscope settings, most importantly the incident beam energy, and it will be used ater for simulating diffraction."
   ]
  },
  {
   "cell_type": "code",
   "execution_count": 8,
   "id": "b578b272-0e1e-4054-a1ae-7503a74f506c",
   "metadata": {},
   "outputs": [],
   "source": [
    "from diffsims.generators.diffraction_generator import DiffractionGenerator\n",
    "diff_gen = DiffractionGenerator(accelerating_voltage=200.)"
   ]
  },
  {
   "cell_type": "markdown",
   "id": "d019ef28-cee5-4188-b7a9-c6f507390a63",
   "metadata": {},
   "source": [
    "We also set up a generator that will be used in creating a library of simulated diffraction patterns. This library generator takes the diffraction generator as input.\r\n",
    "\r\n"
   ]
  },
  {
   "cell_type": "code",
   "execution_count": 9,
   "id": "c28671fe-3fba-4615-bbc4-fc6f1a9a37f7",
   "metadata": {},
   "outputs": [],
   "source": [
    "from diffsims.generators.library_generator import DiffractionLibraryGenerator\n",
    "lib_gen = DiffractionLibraryGenerator(diff_gen)"
   ]
  },
  {
   "cell_type": "markdown",
   "id": "35684c33-c798-4c58-8846-d1e2ed63c59e",
   "metadata": {},
   "source": [
    "First, we will focus on the average pattern from the whole dataset. This pattern shows the Fe matrix oriented to (or very close to) the zone axis <100>. We aim to simulate a diffraction pattern that matches this average pattern.\r\n",
    "\r\n",
    "Create a structure library containing the phase identifier, the crystal structure and the orientations that will be used to simulate diffraction. For now, we will only lookt the crystalum oriented to Euler angles (0,0,0), which will leave the crystl oriented to the <100> zone axi In the context of crystallography and electron diffraction, the term “zone axis” refers to a direction in a crystal lattice. When we say a crystal is oriented along a certain zone axis, we mean that the electron beam is parallel to that direction.\r\n",
    "\r\n",
    "So, if the Euler angles are (0,0,0), it means the crystal orientation is the same as the reference orientation. The specific zone axis corresponding to this orientation depends on the reference state of the crystal. For a cubic crystal system, if the reference state is aligned along the [100] direction, then the Euler angles (0,0,0) would correspond to the [100] zone a\n",
    "\n",
    "This is suitable for materials, like Al, where [100] is the most used orientation. In case of Fe allotrpes it might be better to start with a random zone axis.\n",
    "On 240112 the zone axis for testing the notebook is [111] and has the Euler angles (90., 54.736, 45.).s.s."
   ]
  },
  {
   "cell_type": "code",
   "execution_count": 14,
   "id": "4e839071-bad9-474a-9173-aaee3c2b4bd2",
   "metadata": {},
   "outputs": [],
   "source": [
    "from diffsims.libraries.structure_library import StructureLibrary\n",
    "euler_100 = (90., 54.736, 45.) # <111> zone axis # (0., 0., 0.) # <100> zone axis \n",
    "library_Fe = StructureLibrary(identifiers = ['Fe'], \n",
    "                              structures = [structure_aFe], \n",
    "                              orientations = [[euler_100]])"
   ]
  },
  {
   "cell_type": "markdown",
   "id": "a93fe667-5d18-4e8b-a739-424d69cf97b6",
   "metadata": {},
   "source": [
    "# Cementite FeC"
   ]
  },
  {
   "cell_type": "code",
   "execution_count": null,
   "id": "cbcce1d9-fe3f-48bc-955b-53f15ac35b6e",
   "metadata": {},
   "outputs": [],
   "source": []
  },
  {
   "cell_type": "markdown",
   "id": "67d4e8f8-8ede-44a0-88de-ca9a5498a9d0",
   "metadata": {},
   "source": [
    "Define variables needed to simulate diffraction. We know the length of the detector and can use that to calculate how far into reciprocal space we need to simulate diffraction for ('reciprocal_radius'), in order to cover the whole detector, using Pythagoras."
   ]
  },
  {
   "cell_type": "code",
   "execution_count": 15,
   "id": "596660dd-9d9a-4539-ba3c-ec4452b9fb62",
   "metadata": {},
   "outputs": [
    {
     "data": {
      "text/plain": [
       "0.9008626255785618"
      ]
     },
     "execution_count": 15,
     "metadata": {},
     "output_type": "execute_result"
    }
   ],
   "source": [
    "half_shape = (64, 64) # FIXME check values\n",
    "reciprocal_radius = np.sqrt(64**2*2)*calibration\n",
    "reciprocal_radius"
   ]
  },
  {
   "cell_type": "markdown",
   "id": "a9ddf1ae-ffc4-4a9e-b6f4-bac7041b0953",
   "metadata": {},
   "source": [
    "We also need to determine the maximum excitation error in the diffraction simulation. This parameter can very roughly be interpreted as the relrod length ans is related to the inverse thickness of the specimen.\r\n",
    "\r\n"
   ]
  },
  {
   "cell_type": "code",
   "execution_count": 16,
   "id": "104b6a12-8c80-4e77-91a1-1d486c7bb443",
   "metadata": {},
   "outputs": [],
   "source": [
    "max_excitation_error = 1/10"
   ]
  },
  {
   "cell_type": "markdown",
   "id": "bcc70d05-ae12-47a3-bf41-2d67eebbdcee",
   "metadata": {},
   "source": [
    "Calculate the library of simulated diffraction patterns, for the structure library defined above, which contained only the aFe and the orientation (0,0,0).\r\n",
    "\r\n"
   ]
  },
  {
   "cell_type": "code",
   "execution_count": 17,
   "id": "b7ae34b4-b593-42d0-8d6b-f1a0dee89b7e",
   "metadata": {},
   "outputs": [
    {
     "name": "stderr",
     "output_type": "stream",
     "text": [
      "                                                                                                                       \r"
     ]
    }
   ],
   "source": [
    "diff_lib_Fe = lib_gen.get_diffraction_library(library_Fe,\n",
    "                                              calibration=calibration,\n",
    "                                              reciprocal_radius=reciprocal_radius,\n",
    "                                              half_shape=half_shape,\n",
    "                                              with_direct_beam=False,\n",
    "                                              max_excitation_error=max_excitation_error)"
   ]
  },
  {
   "cell_type": "markdown",
   "id": "20006e41-3093-4fe1-9aa7-a6f9e490ba09",
   "metadata": {},
   "source": [
    "This simulated library contains for each simulated pattern, the phase, the orientation, the center coordinates of the simulated Bragg spots, their intensities and their indices hkl."
   ]
  },
  {
   "cell_type": "code",
   "execution_count": 18,
   "id": "a121b0eb-b3b2-4a05-a2ae-8513f18e64f0",
   "metadata": {},
   "outputs": [
    {
     "data": {
      "text/plain": [
       "{'Fe': {'simulations': array([<diffsims.sims.diffraction_simulation.DiffractionSimulation object at 0x00000223B5C8FD50>],\n",
       "        dtype=object),\n",
       "  'orientations': [(90.0, 54.736, 45.0)],\n",
       "  'pixel_coords': array([array([[107, -11],\n",
       "                [151,  64],\n",
       "                [107,  39],\n",
       "                [ 64,  14],\n",
       "                [ 21, -11],\n",
       "                [107,  89],\n",
       "                [ 21,  39],\n",
       "                [107, 139],\n",
       "                [ 64, 114],\n",
       "                [ 21,  89],\n",
       "                [-23,  64],\n",
       "                [ 21, 139]])], dtype=object),\n",
       "  'intensities': array([array([10.33895331, 10.33843889, 34.6761252 , 34.67674383, 10.33998184,\n",
       "                34.6761252 , 34.67736189, 10.33895331, 34.67674383, 34.67736189,\n",
       "                10.34049593, 10.33998184])                                      ],\n",
       "        dtype=object)}}"
      ]
     },
     "execution_count": 18,
     "metadata": {},
     "output_type": "execute_result"
    }
   ],
   "source": [
    "diff_lib_Fe"
   ]
  },
  {
   "cell_type": "markdown",
   "id": "d8b8c66e-376c-4d1c-ba98-6c27c5730539",
   "metadata": {},
   "source": [
    "We pick out the first (and only) simulation and plot it.\r\n",
    "\r\n"
   ]
  },
  {
   "cell_type": "code",
   "execution_count": 373,
   "id": "9d10370b-0217-40dd-bac1-78a054a3920a",
   "metadata": {
    "scrolled": true
   },
   "outputs": [],
   "source": [
    "simulation_Fe = diff_lib_Fe['Fe']['simulations'][0]\n",
    "#simulation_Fe.plot()\n"
   ]
  },
  {
   "cell_type": "code",
   "execution_count": null,
   "id": "7416e769-f32d-47ac-9787-f724176a465b",
   "metadata": {},
   "outputs": [],
   "source": [
    "simulation_Fe.indices"
   ]
  },
  {
   "cell_type": "markdown",
   "id": "ff7b8b02-fe67-46ba-82be-9a75aab613f4",
   "metadata": {},
   "source": [
    "We see that the simulation and indices fit what was expected. However, we do not know the in-plane rotation of the spots, which we can calculate. This is done by calculating the polar transforms of both the pattern and the simulation and calculating their cross correlation coefficient as one is shifted over the other."
   ]
  },
  {
   "cell_type": "code",
   "execution_count": 21,
   "id": "3281025f-a964-472d-828d-22a298d763c2",
   "metadata": {},
   "outputs": [
    {
     "ename": "NameError",
     "evalue": "name 'dp_mean' is not defined",
     "output_type": "error",
     "traceback": [
      "\u001b[1;31m---------------------------------------------------------------------------\u001b[0m",
      "\u001b[1;31mNameError\u001b[0m                                 Traceback (most recent call last)",
      "Cell \u001b[1;32mIn[21], line 2\u001b[0m\n\u001b[0;32m      1\u001b[0m \u001b[38;5;28;01mfrom\u001b[39;00m \u001b[38;5;21;01mpyxem\u001b[39;00m\u001b[38;5;21;01m.\u001b[39;00m\u001b[38;5;21;01mutils\u001b[39;00m \u001b[38;5;28;01mimport\u001b[39;00m indexation_utils \u001b[38;5;28;01mas\u001b[39;00m iutls\n\u001b[1;32m----> 2\u001b[0m a, c \u001b[38;5;241m=\u001b[39m iutls\u001b[38;5;241m.\u001b[39mget_in_plane_rotation_correlation(\u001b[43mdp_mean\u001b[49m\u001b[38;5;241m.\u001b[39mdata, simulation_Fe)\n",
      "\u001b[1;31mNameError\u001b[0m: name 'dp_mean' is not defined"
     ]
    }
   ],
   "source": [
    "from pyxem.utils import indexation_utils as iutls\n",
    "a, c = iutls.get_in_plane_rotation_correlation(dp_mean.data, simulation_Fe)"
   ]
  },
  {
   "cell_type": "markdown",
   "id": "8ac42387-86f1-4811-ac63-93965195be03",
   "metadata": {},
   "source": [
    "Define the in-plane angle as the angle with the highest correlation score."
   ]
  },
  {
   "cell_type": "code",
   "execution_count": 20,
   "id": "67324ce8-54b9-4580-84bb-6094b7b04d15",
   "metadata": {},
   "outputs": [
    {
     "ename": "NameError",
     "evalue": "name 'a' is not defined",
     "output_type": "error",
     "traceback": [
      "\u001b[1;31m---------------------------------------------------------------------------\u001b[0m",
      "\u001b[1;31mNameError\u001b[0m                                 Traceback (most recent call last)",
      "Cell \u001b[1;32mIn[20], line 1\u001b[0m\n\u001b[1;32m----> 1\u001b[0m in_plane_angle \u001b[38;5;241m=\u001b[39m \u001b[43ma\u001b[49m[np\u001b[38;5;241m.\u001b[39margmax(c)]\n\u001b[0;32m      2\u001b[0m in_plane_angle\n",
      "\u001b[1;31mNameError\u001b[0m: name 'a' is not defined"
     ]
    }
   ],
   "source": [
    "in_plane_angle = a[np.argmax(c)]\n",
    "in_plane_angle"
   ]
  },
  {
   "cell_type": "markdown",
   "id": "a814c523-0b64-4414-9531-7a650021fe4c",
   "metadata": {},
   "source": [
    "We plot the simulated spots on top of the average pattern. With the correct in-plane rotation applied, there is"
   ]
  },
  {
   "cell_type": "code",
   "execution_count": null,
   "id": "0d80b65b-3e6f-4874-96aa-4742ea0a8ec7",
   "metadata": {},
   "outputs": [],
   "source": [
    "from pyxem.utils import plotting_utils as putls\n",
    "from matplotlib.colors import LogNorm\n",
    "putls.plot_template_over_pattern(dp_mean.data,\n",
    "                                 simulation_Fe,\n",
    "                                 in_plane_angle=in_plane_angle,\n",
    "                                 norm=LogNorm())"
   ]
  },
  {
   "cell_type": "markdown",
   "id": "b54c75c3-dc92-46aa-8157-9372ad4490e9",
   "metadata": {},
   "source": [
    "## Sampling orientations within the fundamental sector\n",
    "Next we want to create a list of orientations sampled from the whole fundamental sector of the respective crystal system. This does not take into account the in-plane rotations, only the beam directions.\r\n",
    "\r\n",
    "We set an angular resolution for creation of the grid of orientations."
   ]
  },
  {
   "cell_type": "code",
   "execution_count": 22,
   "id": "c4aa5d9c-86b7-4e93-826d-eec6b66d5838",
   "metadata": {},
   "outputs": [],
   "source": [
    "resolution = 1 # What does angular resolution mean?"
   ]
  },
  {
   "cell_type": "code",
   "execution_count": 23,
   "id": "c63d44d5-1c91-4797-9c52-15a8b2328279",
   "metadata": {},
   "outputs": [
    {
     "name": "stderr",
     "output_type": "stream",
     "text": [
      "C:\\Users\\ursulal\\AppData\\Local\\miniconda3\\envs\\2312_hspy\\Lib\\site-packages\\diffsims\\generators\\sphere_mesh_generators.py:514: RuntimeWarning: invalid value encountered in divide\n",
      "  phi2 = sign * np.nan_to_num(np.arccos(x_comp / norm_proj))\n"
     ]
    }
   ],
   "source": [
    "from diffsims.generators.rotation_list_generators import get_beam_directions_grid\n",
    "grid_aFe = get_beam_directions_grid(\n",
    "    resolution=resolution, crystal_system = \"cubic\") # Ferrite\n",
    "grid_FeC = get_beam_directions_grid(\n",
    "    resolution=resolution, crystal_system = \"orthorhombic\") # FeC\n",
    "grid_MnS = get_beam_directions_grid(\n",
    "    resolution=resolution, crystal_system = \"cubic\") # MnS"
   ]
  },
  {
   "cell_type": "markdown",
   "id": "c723dd50-df24-4659-b0ad-3234130b3bcb",
   "metadata": {},
   "source": [
    "\n",
    "\n",
    "Due to the various symmetries of the three lattice types, the length of the grids are quite different.\r\n",
    "\r\n"
   ]
  },
  {
   "cell_type": "code",
   "execution_count": 24,
   "id": "6dbad88a-b3c7-4d17-8084-6bf15dc2cc82",
   "metadata": {
    "scrolled": true
   },
   "outputs": [
    {
     "name": "stdout",
     "output_type": "stream",
     "text": [
      "1081 6211 1081\n"
     ]
    }
   ],
   "source": [
    "print(len(grid_aFe), len(grid_FeC), len(grid_MnS))\n"
   ]
  },
  {
   "cell_type": "markdown",
   "id": "17445682-7ec0-4aed-8aef-8fb84af7c3f1",
   "metadata": {},
   "source": [
    "Define the Laue group symmetry of each of the three phases. Here, Schoenflies notation is used. Take a look at the orix documentation to find an overview of the 32 point groups and the corresponding 11 Laue groups. https://orix.readthedocs.io/en/stable/inverse_pole_figures.html - the link is not working"
   ]
  },
  {
   "cell_type": "code",
   "execution_count": 25,
   "id": "4425150c-074d-4fe8-847b-2b3ed425ae76",
   "metadata": {},
   "outputs": [],
   "source": [
    "from orix.quaternion import symmetry, Orientation, Rotation\n",
    "symmetry_aFe = symmetry.Oh\n",
    "symmetry_FeC = symmetry.D2h\n",
    "symmetry_MnS = symmetry.Oh"
   ]
  },
  {
   "cell_type": "markdown",
   "id": "0dd5354a-c142-486c-95c1-b7ab6b716268",
   "metadata": {},
   "source": [
    "These contain all the allowed symmetry operations."
   ]
  },
  {
   "cell_type": "code",
   "execution_count": 26,
   "id": "4f6d171a-7f89-4765-b7da-290343aff593",
   "metadata": {
    "scrolled": true
   },
   "outputs": [
    {
     "data": {
      "text/plain": [
       "Symmetry (48,) m-3m\n",
       "[[ 1.      0.      0.      0.    ]\n",
       " [ 0.7071  0.      0.      0.7071]\n",
       " [ 0.      0.      0.      1.    ]\n",
       " [-0.7071  0.      0.      0.7071]\n",
       " [ 0.5     0.5     0.5     0.5   ]\n",
       " [ 0.      0.      0.7071  0.7071]\n",
       " [-0.5    -0.5     0.5     0.5   ]\n",
       " [-0.7071 -0.7071  0.      0.    ]\n",
       " [ 0.      1.      0.      0.    ]\n",
       " [ 0.      0.7071  0.7071  0.    ]\n",
       " [ 0.      0.      1.      0.    ]\n",
       " [ 0.     -0.7071  0.7071  0.    ]\n",
       " [-0.5     0.5     0.5    -0.5   ]\n",
       " [ 0.      0.      0.7071 -0.7071]\n",
       " [ 0.5    -0.5     0.5    -0.5   ]\n",
       " [ 0.7071 -0.7071  0.      0.    ]\n",
       " [ 0.      0.7071  0.      0.7071]\n",
       " [-0.5     0.5     0.5     0.5   ]\n",
       " [-0.7071  0.      0.7071  0.    ]\n",
       " [-0.5    -0.5     0.5    -0.5   ]\n",
       " [ 0.      0.7071  0.     -0.7071]\n",
       " [ 0.5     0.5     0.5    -0.5   ]\n",
       " [ 0.7071  0.      0.7071  0.    ]\n",
       " [ 0.5    -0.5     0.5     0.5   ]\n",
       " [ 1.      0.      0.      0.    ]\n",
       " [ 0.7071  0.      0.      0.7071]\n",
       " [ 0.      0.      0.      1.    ]\n",
       " [-0.7071  0.      0.      0.7071]\n",
       " [ 0.5     0.5     0.5     0.5   ]\n",
       " [ 0.      0.      0.7071  0.7071]\n",
       " [-0.5    -0.5     0.5     0.5   ]\n",
       " [-0.7071 -0.7071  0.      0.    ]\n",
       " [ 0.      1.      0.      0.    ]\n",
       " [ 0.      0.7071  0.7071  0.    ]\n",
       " [ 0.      0.      1.      0.    ]\n",
       " [ 0.     -0.7071  0.7071  0.    ]\n",
       " [-0.5     0.5     0.5    -0.5   ]\n",
       " [ 0.      0.      0.7071 -0.7071]\n",
       " [ 0.5    -0.5     0.5    -0.5   ]\n",
       " [ 0.7071 -0.7071  0.      0.    ]\n",
       " [ 0.      0.7071  0.      0.7071]\n",
       " [-0.5     0.5     0.5     0.5   ]\n",
       " [-0.7071  0.      0.7071  0.    ]\n",
       " [-0.5    -0.5     0.5    -0.5   ]\n",
       " [ 0.      0.7071  0.     -0.7071]\n",
       " [ 0.5     0.5     0.5    -0.5   ]\n",
       " [ 0.7071  0.      0.7071  0.    ]\n",
       " [ 0.5    -0.5     0.5     0.5   ]]"
      ]
     },
     "execution_count": 26,
     "metadata": {},
     "output_type": "execute_result"
    }
   ],
   "source": [
    "symmetry_aFe\n",
    "symmetry_FeC\n",
    "symmetry_MnS"
   ]
  },
  {
   "cell_type": "markdown",
   "id": "f1fc4887-0529-443a-8ab3-a7b19297f624",
   "metadata": {},
   "source": [
    "Calculate the orientations from the grid of Euler angles, using the respective symmetries as input. The orientations are given as quaternions. Note that \"In orix, orientations and misorientations are distinguished from rotations only by the inclusion of a notion of symmetry.\" - this needs more documentation"
   ]
  },
  {
   "cell_type": "code",
   "execution_count": 27,
   "id": "7823c6ce-d634-411e-a48d-e3e048a2966b",
   "metadata": {},
   "outputs": [],
   "source": [
    "orientations_aFe = Orientation.from_euler(np.deg2rad(grid_aFe), symmetry=symmetry_aFe)\n",
    "orientations_FeC = Orientation.from_euler(np.deg2rad(grid_FeC), symmetry=symmetry_FeC)\n",
    "orientations_MnS = Orientation.from_euler(np.deg2rad(grid_MnS), symmetry=symmetry_MnS)"
   ]
  },
  {
   "cell_type": "code",
   "execution_count": 28,
   "id": "3fa49f5a-83c1-4e3d-9dda-d262ec6e950c",
   "metadata": {},
   "outputs": [
    {
     "data": {
      "text/plain": [
       "Orientation (1081,) m-3m\n",
       "[[ 0.7071 -0.      0.     -0.7071]\n",
       " [ 0.7071 -0.0062  0.0062 -0.7071]\n",
       " [ 0.707  -0.0123  0.0123 -0.707 ]\n",
       " ...\n",
       " [ 0.8178 -0.4151  0.1805 -0.3556]\n",
       " [ 0.8192 -0.4198  0.1782 -0.3477]\n",
       " [ 0.8205 -0.4247  0.1759 -0.3399]]"
      ]
     },
     "execution_count": 28,
     "metadata": {},
     "output_type": "execute_result"
    }
   ],
   "source": [
    "orientations_aFe"
   ]
  },
  {
   "cell_type": "markdown",
   "id": "60285b82-69e7-45c3-8c1c-1abc2e0dc988",
   "metadata": {},
   "source": [
    "Plot these orientations on the inverse pole figure (IPF)."
   ]
  },
  {
   "cell_type": "code",
   "execution_count": 29,
   "id": "534f5ccf-09c2-439a-9a58-a071f3032861",
   "metadata": {},
   "outputs": [
    {
     "data": {
      "image/png": "[encoded data removed]",
      "text/plain": [
       "<Figure size 640x480 with 1 Axes>"
      ]
     },
     "metadata": {},
     "output_type": "display_data"
    },
    {
     "data": {
      "image/png": "[encoded data removed]",
      "text/plain": [
       "<Figure size 640x480 with 1 Axes>"
      ]
     },
     "metadata": {},
     "output_type": "display_data"
    },
    {
     "data": {
      "image/png": "[encoded data removed]",
      "text/plain": [
       "<Figure size 640x480 with 1 Axes>"
      ]
     },
     "metadata": {},
     "output_type": "display_data"
    }
   ],
   "source": [
    "orientations_aFe.scatter('ipf')\n",
    "orientations_FeC.scatter('ipf')\n",
    "orientations_MnS.scatter('ipf')"
   ]
  },
  {
   "cell_type": "markdown",
   "id": "3a51a51c-1887-4bd4-b7fb-c468faa967d9",
   "metadata": {},
   "source": [
    "Rotate the beam direction (optic axis) according to the crystal orientations.\r\n",
    "\r\n"
   ]
  },
  {
   "cell_type": "code",
   "execution_count": 30,
   "id": "e4398f21-69da-4935-9319-06e21585116b",
   "metadata": {},
   "outputs": [],
   "source": [
    "from orix.vector import Vector3d, Miller\n",
    "orientations_aFe_z = orientations_aFe * Vector3d.zvector() \n",
    "orientations_FeC_z = orientations_FeC * Vector3d.zvector()\n",
    "orientations_MnS_z = orientations_MnS * Vector3d.zvector()"
   ]
  },
  {
   "cell_type": "markdown",
   "id": "e819059c-01a4-4a4c-982d-503ad59d3723",
   "metadata": {},
   "source": [
    "Plot the beam directions (the sampled zone axes) inside the upper hemisphere of the full [001] stereograpic projections "
   ]
  },
  {
   "cell_type": "code",
   "execution_count": 31,
   "id": "6bbcd026-4141-456c-b95f-6431ceb2ae17",
   "metadata": {},
   "outputs": [
    {
     "data": {
      "image/png": "[encoded data removed]",
      "text/plain": [
       "<Figure size 640x480 with 2 Axes>"
      ]
     },
     "metadata": {},
     "output_type": "display_data"
    },
    {
     "data": {
      "image/png": "[encoded data removed]",
      "text/plain": [
       "<Figure size 640x480 with 2 Axes>"
      ]
     },
     "metadata": {},
     "output_type": "display_data"
    },
    {
     "data": {
      "image/png": "[encoded data removed]",
      "text/plain": [
       "<Figure size 640x480 with 2 Axes>"
      ]
     },
     "metadata": {},
     "output_type": "display_data"
    }
   ],
   "source": [
    "orientations_aFe_z.scatter(hemisphere=\"both\") # 240205 error:'numpy.ndarray' object has no attribute 'scatter'\n",
    "orientations_FeC_z.scatter(hemisphere=\"both\")\n",
    "orientations_MnS_z.scatter(hemisphere=\"both\")"
   ]
  },
  {
   "cell_type": "markdown",
   "id": "f2215eb3-10df-49b4-8bf9-b16760c03fb8",
   "metadata": {},
   "source": [
    "## 2c. Sampling orientations around a zone axis\r\n",
    "Define each phase using the Phase class in orix, with the structure and symmetry as inpu"
   ]
  },
  {
   "cell_type": "code",
   "execution_count": 32,
   "id": "82c24c88-9ac0-4488-a72e-14545fb8a1aa",
   "metadata": {},
   "outputs": [],
   "source": [
    "from orix.crystal_map import Phase\n"
   ]
  },
  {
   "cell_type": "code",
   "execution_count": 33,
   "id": "3a75c6bb-2d9a-4410-93c5-7c02c82bc922",
   "metadata": {},
   "outputs": [],
   "source": [
    "phase_aFe = Phase(structure=structure_aFe, point_group=symmetry_aFe)\n",
    "phase_FeC = Phase(structure=structure_FeC, point_group=symmetry_FeC)\n",
    "phase_MnS = Phase(structure=structure_MnS, point_group=symmetry_MnS)"
   ]
  },
  {
   "cell_type": "markdown",
   "id": "0391d0c2-7b1b-49dc-91dd-23babf613da7",
   "metadata": {},
   "source": [
    "Since the precipitates have specific orientation relationships with the aluminium matrix, we know what zone axis they should be close to when the matrix is oriented to zone axis [001]. If there are several zone axis that are equivalent by symmetry, we choose those that lie within the fundamental zone, since the grid of Euler angles we defined earlier was for the fundamental zone."
   ]
  },
  {
   "cell_type": "code",
   "execution_count": 34,
   "id": "be94faa4-f5de-4494-a45a-8726f048a626",
   "metadata": {},
   "outputs": [],
   "source": [
    "# Define the diffraction generator with a desired maximum excitation error\n",
    "diff_gen = DiffractionGenerator(200, max_excitation_error=1/10)\n"
   ]
  },
  {
   "cell_type": "code",
   "execution_count": 35,
   "id": "0b6fe446-2896-47dd-9c83-ca4ed82974fe",
   "metadata": {},
   "outputs": [],
   "source": [
    "# Define the rotation list\n",
    "rotation_list = Rotation.from_euler(np.arange(0, 360, 1), degrees = True)"
   ]
  },
  {
   "cell_type": "code",
   "execution_count": 36,
   "id": "c21d29ca-1a42-4148-96ee-abf7a2093f34",
   "metadata": {},
   "outputs": [],
   "source": [
    "# Create a structure library\n",
    "struc_lib = StructureLibrary(['phase_aFe', 'phase_FeC', 'phase_MnS'], [phase_aFe, phase_FeC, phase_MnS], [rotation_list]*3)\n"
   ]
  },
  {
   "cell_type": "code",
   "execution_count": 37,
   "id": "f52e298a-70ec-4a74-955e-0178c3ec5d56",
   "metadata": {},
   "outputs": [],
   "source": [
    "uvw_aFe = [1, 1, 1]\n",
    "uvw_FeC = [0, 0, 1]\n",
    "uvw_MnS = [1, 1, 1]"
   ]
  },
  {
   "cell_type": "markdown",
   "id": "f6de0a54-4520-44a2-ac15-7176a65edc74",
   "metadata": {},
   "source": [
    "Define how far from the zone axis you want to sample orientations.\r\n",
    "\r\n"
   ]
  },
  {
   "cell_type": "code",
   "execution_count": 38,
   "id": "e5fbaba3-7a33-4a5e-bb75-ab4a14ac9f06",
   "metadata": {},
   "outputs": [],
   "source": [
    "threshold_angle =10"
   ]
  },
  {
   "cell_type": "code",
   "execution_count": 39,
   "id": "0ac523f1-648f-4075-87b0-307a97eee55b",
   "metadata": {},
   "outputs": [],
   "source": [
    "def reduce_beam_directions(phase, grid, orientations_z, zone_axis, threshold):\n",
    "    za = Miller(uvw=zone_axis, phase=phase)\n",
    "    angles = orientations_z.angle_with(za)\n",
    "    reduced_grid = grid[angles <= np.deg2rad(threshold)]\n",
    "\n",
    "    return reduced_grid"
   ]
  },
  {
   "cell_type": "code",
   "execution_count": 40,
   "id": "a803b530-0521-40ab-81f5-a789ee7f0cbd",
   "metadata": {},
   "outputs": [],
   "source": [
    "grid_aFe_zone = reduce_beam_directions(\n",
    "    phase_aFe, grid_aFe, orientations_aFe_z, uvw_aFe, threshold_angle)\n",
    "\n",
    "grid_FeC_zone = reduce_beam_directions(\n",
    "    phase_FeC, grid_FeC, orientations_FeC_z, uvw_FeC, threshold_angle)\n",
    "\n",
    "grid_MnS_zone = reduce_beam_directions(\n",
    "    phase_MnS, grid_MnS, orientations_MnS_z, uvw_MnS, threshold_angle)"
   ]
  },
  {
   "cell_type": "markdown",
   "id": "bf5dbd06-1d55-490e-9b46-b8141c0c761b",
   "metadata": {},
   "source": [
    "We have now only sampled the orientations aorund the known zone axis for each phase, which reduced the list of orientations significantly. Compare the length of each grid to the length of the grids sampling the whole fundamental zone."
   ]
  },
  {
   "cell_type": "code",
   "execution_count": 41,
   "id": "a72da5e0-fc5b-4c86-a410-26402ae1dc09",
   "metadata": {},
   "outputs": [
    {
     "name": "stdout",
     "output_type": "stream",
     "text": [
      "78 88 78\n"
     ]
    }
   ],
   "source": [
    "print(len(grid_aFe_zone), len(grid_FeC_zone), len(grid_MnS_zone))\n"
   ]
  },
  {
   "cell_type": "markdown",
   "id": "1a4547d6-58e5-4e88-baa5-11c4811ced31",
   "metadata": {},
   "source": [
    "## 2d. Simulating kinematical diffraction\r\n",
    "Set up lists of the phases, their structures and the grid of orientations."
   ]
  },
  {
   "cell_type": "code",
   "execution_count": 42,
   "id": "a3db5edd-64a2-46f2-b4cf-ec4ed0d0029a",
   "metadata": {},
   "outputs": [
    {
     "data": {
      "text/plain": [
       "Rotation (1,)\n",
       "[[ 0.9998 -0.0087  0.0002 -0.0175]]"
      ]
     },
     "execution_count": 42,
     "metadata": {},
     "output_type": "execute_result"
    }
   ],
   "source": [
    "rotation_list\n"
   ]
  },
  {
   "cell_type": "code",
   "execution_count": 43,
   "id": "f92363f6-15b9-4aef-8b23-6e56416447c1",
   "metadata": {},
   "outputs": [],
   "source": [
    "# List of phase names:\n",
    "phases = ['aFe', 'FeC', 'MnS']\n",
    "\n",
    "# List of structures:\n",
    "structures = [structure_aFe, structure_FeC, structure_MnS]\n",
    "\n",
    "# List of rotations:\n",
    "grids = [grid_aFe_zone, grid_FeC_zone, grid_MnS_zone]"
   ]
  },
  {
   "cell_type": "markdown",
   "id": "3441305b-6110-4383-b6e0-59c28a0d88f1",
   "metadata": {},
   "source": [
    "Define a new structure library containing the phases, structures and grids, which we will use to simulate our diffraction patterns."
   ]
  },
  {
   "cell_type": "code",
   "execution_count": 44,
   "id": "eeb6ef84-4e7c-4c22-9aae-7e788fac3df3",
   "metadata": {},
   "outputs": [],
   "source": [
    "library = StructureLibrary(phases, structures, grids)"
   ]
  },
  {
   "cell_type": "code",
   "execution_count": 45,
   "id": "4351ff67-ae19-46ed-8a78-26d9114609b2",
   "metadata": {},
   "outputs": [
    {
     "name": "stderr",
     "output_type": "stream",
     "text": [
      "                                                                                                                       \r"
     ]
    }
   ],
   "source": [
    "diff_lib = lib_gen.get_diffraction_library(library,\n",
    "                                           calibration=calibration,c\n",
    "                                           reciprocal_radius=reciprocal_radius,\n",
    "                                           half_shape=half_shape,\n",
    "                                           with_direct_beam=False,\n",
    "                                           max_excitation_error= 1/10)#max_excitation_error)  0.08 "
   ]
  },
  {
   "cell_type": "markdown",
   "id": "131159a1-ebc0-40df-a2d4-838128690b6d",
   "metadata": {},
   "source": [
    "The diffraction library is a dictionary, which takes the phase names as key. The library of each phase can then be accessed using diff_lib['key']. Here we print the keys we have available."
   ]
  },
  {
   "cell_type": "code",
   "execution_count": 46,
   "id": "10b3ff49-edd8-40af-94de-1801dc2ef52f",
   "metadata": {},
   "outputs": [
    {
     "data": {
      "text/plain": [
       "dict_keys(['aFe', 'FeC', 'MnS'])"
      ]
     },
     "execution_count": 46,
     "metadata": {},
     "output_type": "execute_result"
    }
   ],
   "source": [
    "diff_lib.keys() "
   ]
  },
  {
   "cell_type": "markdown",
   "id": "ec13d5d9-f016-404b-8dbf-e90c3780eaa4",
   "metadata": {},
   "source": [
    "Plot the simulation closest to zone-axis.\r\n",
    "\r\n"
   ]
  },
  {
   "cell_type": "code",
   "execution_count": 317,
   "id": "af87741a-06b7-462b-8e12-53681bde6124",
   "metadata": {},
   "outputs": [
    {
     "data": {
      "text/plain": [
       "(<Axes: >, <matplotlib.collections.PathCollection at 0x2245081d5d0>)"
      ]
     },
     "execution_count": 317,
     "metadata": {},
     "output_type": "execute_result"
    }
   ],
   "source": [
    "diff_lib['aFe']['simulations'][60].plot() # Closest to Euler angle (0, 0, 90)\n",
    "#diff_lib['FeC']['simulations'][0].plot() # Closest to Euler angle (0, 90, 90)\n",
    "#diff_lib['MnS']['simulations'][0].plot() # Closest to Euler angle (0, 54.4, 0)"
   ]
  },
  {
   "cell_type": "code",
   "execution_count": 48,
   "id": "31b82ac9-a4ed-4345-8dc1-80d624cde325",
   "metadata": {},
   "outputs": [
    {
     "data": {
      "text/plain": [
       "(<Axes: >, <matplotlib.collections.PathCollection at 0x223b5e3bc50>)"
      ]
     },
     "execution_count": 48,
     "metadata": {},
     "output_type": "execute_result"
    },
    {
     "data": {
      "image/png": "[encoded data removed]",
      "text/plain": [
       "<Figure size 640x480 with 1 Axes>"
      ]
     },
     "metadata": {},
     "output_type": "display_data"
    }
   ],
   "source": [
    "fig, axs = plt.subplots()\n",
    "axs.set_aspect(1)\n",
    "diff_lib['aFe']['simulations'][0].plot(ax=axs)"
   ]
  },
  {
   "cell_type": "code",
   "execution_count": null,
   "id": "df35fc90-9d1f-4d29-a7b5-d815d50fcaa0",
   "metadata": {},
   "outputs": [],
   "source": [
    "s = hs.signals.BaseSignal(diff_lib['aFe']['simulations'], dtype= object, ragged= True)\n",
    "len(diff_lib['aFe']['simulations'])"
   ]
  },
  {
   "cell_type": "code",
   "execution_count": null,
   "id": "3269495a-c8be-4dcf-9bf9-8c108bb9099d",
   "metadata": {
    "scrolled": true
   },
   "outputs": [],
   "source": [
    "currMax = 0\n",
    "number = len(diff_lib['aFe']['simulations'])-1\n",
    "for i in range(0,number):\n",
    "    if (len(diff_lib['aFe']['simulations'][i])> currMax):\n",
    "     currMax = len(diff_lib['aFe']['simulations'][i])\n",
    "     maxIndex = i\n",
    "   #  print(i,len(diff_lib['aFe']['simulations'][i]))#s.plot()#s#.axes_manager   #diff_lib['aFe']['simulations'][0]\n",
    "print(maxIndex)   \n",
    "  "
   ]
  },
  {
   "cell_type": "code",
   "execution_count": null,
   "id": "748d5136-b2f2-419a-9c87-d1a833833faa",
   "metadata": {},
   "outputs": [],
   "source": [
    "simulation# = diff_lib['aFe']['simulations']"
   ]
  },
  {
   "cell_type": "markdown",
   "id": "714601aa-098c-4d7f-810b-8157fc4b3663",
   "metadata": {},
   "source": [
    "## Here an attempt to make more realistic looking simulated diff patterns \n",
    "240312"
   ]
  },
  {
   "cell_type": "code",
   "execution_count": 203,
   "id": "fc165479-e5f3-4d48-9421-e7980fc4a03d",
   "metadata": {},
   "outputs": [
    {
     "data": {
      "text/plain": [
       "array([[-70.12989737, -50.70575174],\n",
       "       [  7.93062437, -85.80665519],\n",
       "       [-20.733091  , -45.50413564],\n",
       "       [-49.39680637,  -5.2016161 ],\n",
       "       [ 28.66371537, -40.30251955],\n",
       "       [-28.66371537,  40.30251955],\n",
       "       [ 49.39680637,   5.2016161 ],\n",
       "       [ 20.733091  ,  45.50413564],\n",
       "       [ -7.93062437,  85.80665519],\n",
       "       [ 70.12989737,  50.70575174]])"
      ]
     },
     "execution_count": 203,
     "metadata": {},
     "output_type": "execute_result"
    }
   ],
   "source": [
    "diff_lib['aFe']['simulations'][10].calibrated_coordinates"
   ]
  },
  {
   "cell_type": "code",
   "execution_count": null,
   "id": "553ed918-60f4-4802-8b4a-4523ba968933",
   "metadata": {},
   "outputs": [],
   "source": [
    "peak_diam = 6\n",
    "max_avg_int = 10"
   ]
  },
  {
   "cell_type": "markdown",
   "id": "8168b4c6-707b-4aab-a3b8-6e81e7fc58a8",
   "metadata": {},
   "source": [
    "## That works!! 241219"
   ]
  },
  {
   "cell_type": "code",
   "execution_count": 361,
   "id": "d3bc1f4a-54f6-4f49-b7bc-4c1cb0176d4b",
   "metadata": {
    "scrolled": true
   },
   "outputs": [
    {
     "name": "stdout",
     "output_type": "stream",
     "text": [
      "34 54 58 78\n",
      "84 104 62 82\n",
      "56 76 102 122\n",
      "134 154 65 85\n",
      "79 99 147 167\n",
      "156 176 110 130\n",
      "128 148 151 171\n",
      "178 198 155 175\n",
      "35 55 57 77\n",
      "85 105 61 81\n",
      "57 77 102 122\n",
      "134 154 66 86\n",
      "78 98 147 167\n",
      "156 176 110 130\n",
      "128 148 151 171\n",
      "177 197 155 175\n",
      "35 55 56 76\n",
      "85 105 61 81\n",
      "57 77 101 121\n",
      "134 154 66 86\n",
      "78 98 147 167\n",
      "156 176 111 131\n",
      "127 147 151 171\n",
      "177 197 156 176\n",
      "36 56 55 75\n",
      "114 134 21 41\n",
      "85 105 61 81\n",
      "57 77 101 121\n",
      "135 155 66 86\n",
      "77 97 146 166\n",
      "156 176 112 132\n",
      "127 147 152 172\n",
      "176 196 157 177\n",
      "33 53 61 81\n",
      "83 103 62 82\n",
      "56 76 104 124\n",
      "133 153 64 84\n",
      "80 100 148 168\n",
      "182 202 66 86\n",
      "156 176 108 128\n",
      "130 150 150 170\n",
      "180 200 152 172\n",
      "33 53 60 80\n",
      "83 103 62 82\n",
      "56 76 104 124\n",
      "133 153 65 85\n",
      "79 99 148 168\n",
      "183 203 67 87\n",
      "156 176 109 129\n",
      "129 149 150 170\n",
      "179 199 153 173\n",
      "34 54 59 79\n",
      "84 104 62 82\n",
      "56 76 103 123\n",
      "133 153 65 85\n",
      "79 99 147 167\n",
      "156 176 109 129\n",
      "129 149 151 171\n",
      "179 199 154 174\n",
      "34 54 58 78\n",
      "84 104 61 81\n",
      "56 76 102 122\n",
      "134 154 65 85\n",
      "79 99 147 167\n",
      "156 176 110 130\n",
      "128 148 151 171\n",
      "178 198 155 175\n",
      "35 55 57 77\n",
      "112 132 20 40\n",
      "84 104 61 81\n",
      "57 77 102 122\n",
      "134 154 65 85\n",
      "78 98 147 167\n",
      "156 176 110 130\n",
      "128 148 151 171\n",
      "177 197 155 175\n",
      "35 55 56 76\n",
      "113 133 20 40\n",
      "85 105 61 81\n",
      "57 77 101 121\n",
      "134 154 66 86\n",
      "78 98 147 167\n",
      "156 176 111 131\n",
      "127 147 151 171\n",
      "177 197 156 176\n",
      "36 56 55 75\n",
      "114 134 20 40\n",
      "85 105 61 81\n",
      "57 77 101 121\n",
      "135 155 66 86\n",
      "77 97 146 166\n",
      "156 176 111 131\n",
      "127 147 152 172\n",
      "98 118 192 212\n",
      "176 196 157 177\n",
      "37 57 55 75\n",
      "115 135 20 40\n",
      "86 106 60 80\n",
      "57 77 100 120\n",
      "135 155 66 86\n",
      "77 97 146 166\n",
      "155 175 112 132\n",
      "126 146 152 172\n",
      "97 117 192 212\n",
      "176 196 158 178\n",
      "32 52 62 82\n",
      "82 102 63 83\n",
      "56 76 106 126\n",
      "31 51 148 168\n",
      "132 152 64 84\n",
      "81 101 149 169\n",
      "182 202 64 84\n",
      "156 176 107 127\n",
      "131 151 149 169\n",
      "181 201 150 170\n",
      "32 52 61 81\n",
      "82 102 63 83\n",
      "56 76 105 125\n",
      "30 50 147 167\n",
      "132 152 64 84\n",
      "80 100 148 168\n",
      "182 202 65 85\n",
      "156 176 107 127\n",
      "130 150 150 170\n",
      "180 200 151 171\n",
      "33 53 60 80\n",
      "83 103 62 82\n",
      "56 76 104 124\n",
      "132 152 64 84\n",
      "80 100 148 168\n",
      "182 202 66 86\n",
      "156 176 108 128\n",
      "130 150 150 170\n",
      "180 200 152 172\n",
      "33 53 60 80\n",
      "83 103 62 82\n",
      "56 76 104 124\n",
      "133 153 65 85\n",
      "79 99 148 168\n",
      "183 203 67 87\n",
      "156 176 109 129\n",
      "129 149 150 170\n",
      "179 199 153 173\n",
      "34 54 59 79\n",
      "83 103 62 82\n",
      "56 76 103 123\n",
      "133 153 65 85\n",
      "79 99 148 168\n",
      "183 203 68 88\n",
      "156 176 109 129\n",
      "129 149 151 171\n",
      "179 199 154 174\n",
      "34 54 58 78\n",
      "112 132 20 40\n",
      "84 104 61 81\n",
      "56 76 103 123\n",
      "134 154 65 85\n",
      "79 99 147 167\n",
      "156 176 110 130\n",
      "128 148 151 171\n",
      "178 198 154 174\n",
      "35 55 57 77\n",
      "112 132 20 40\n",
      "84 104 61 81\n",
      "57 77 102 122\n",
      "134 154 65 85\n",
      "78 98 147 167\n",
      "156 176 110 130\n",
      "128 148 151 171\n",
      "178 198 155 175\n",
      "35 55 56 76\n",
      "113 133 20 40\n",
      "85 105 61 81\n",
      "57 77 102 122\n",
      "134 154 65 85\n",
      "78 98 147 167\n",
      "156 176 111 131\n",
      "127 147 151 171\n",
      "99 119 192 212\n",
      "177 197 156 176\n",
      "36 56 56 76\n",
      "114 134 20 40\n",
      "85 105 61 81\n",
      "57 77 101 121\n",
      "135 155 66 86\n",
      "78 98 147 167\n",
      "156 176 111 131\n",
      "127 147 152 172\n",
      "98 118 192 212\n",
      "176 196 157 177\n",
      "31 51 63 83\n",
      "81 101 63 83\n",
      "56 76 106 126\n",
      "31 51 149 169\n",
      "131 151 63 83\n",
      "81 101 149 169\n",
      "181 201 63 83\n",
      "156 176 106 126\n",
      "131 151 149 169\n",
      "181 201 149 169\n",
      "32 52 62 82\n",
      "82 102 63 83\n",
      "56 76 106 126\n",
      "31 51 148 168\n",
      "132 152 64 84\n",
      "81 101 149 169\n",
      "182 202 64 84\n",
      "156 176 107 127\n",
      "131 151 149 169\n",
      "181 201 150 170\n",
      "32 52 61 81\n",
      "82 102 63 83\n",
      "56 76 105 125\n",
      "30 50 147 167\n",
      "132 152 64 84\n",
      "80 100 148 168\n",
      "182 202 65 85\n",
      "156 176 107 127\n",
      "130 150 150 170\n",
      "180 200 151 171\n",
      "33 53 60 80\n",
      "83 103 62 82\n",
      "56 76 104 124\n",
      "30 50 146 166\n",
      "132 152 64 84\n",
      "80 100 148 168\n",
      "182 202 66 86\n",
      "156 176 108 128\n",
      "130 150 150 170\n",
      "180 200 152 172\n",
      "33 53 60 80\n",
      "110 130 20 40\n",
      "83 103 62 82\n",
      "56 76 104 124\n",
      "133 153 64 84\n",
      "79 99 148 168\n",
      "183 203 67 87\n",
      "156 176 109 129\n",
      "129 149 150 170\n",
      "179 199 153 173\n",
      "34 54 59 79\n",
      "111 131 20 40\n",
      "83 103 62 82\n",
      "56 76 103 123\n",
      "133 153 65 85\n",
      "79 99 148 168\n",
      "183 203 68 88\n",
      "156 176 109 129\n",
      "129 149 151 171\n",
      "179 199 154 174\n",
      "34 54 58 78\n",
      "111 131 20 40\n",
      "84 104 61 81\n",
      "56 76 103 123\n",
      "134 154 65 85\n",
      "79 99 147 167\n",
      "183 203 68 88\n",
      "156 176 110 130\n",
      "128 148 151 171\n",
      "101 121 192 212\n",
      "178 198 154 174\n",
      "35 55 57 77\n",
      "112 132 20 40\n",
      "84 104 61 81\n",
      "57 77 102 122\n",
      "134 154 65 85\n",
      "78 98 147 167\n",
      "184 204 69 89\n",
      "156 176 110 130\n",
      "128 148 151 171\n",
      "100 120 192 212\n",
      "178 198 155 175\n",
      "35 55 56 76\n",
      "113 133 20 40\n",
      "85 105 61 81\n",
      "57 77 102 122\n",
      "134 154 65 85\n",
      "78 98 147 167\n",
      "156 176 111 131\n",
      "127 147 151 171\n",
      "99 119 192 212\n",
      "177 197 156 176\n",
      "31 51 63 83\n",
      "81 101 63 83\n",
      "56 76 106 126\n",
      "31 51 149 169\n",
      "131 151 63 83\n",
      "81 101 149 169\n",
      "181 201 63 83\n",
      "156 176 106 126\n",
      "131 151 149 169\n",
      "181 201 149 169\n",
      "32 52 62 82\n",
      "82 102 63 83\n",
      "56 76 106 126\n",
      "31 51 148 168\n",
      "132 152 63 83\n",
      "81 101 149 169\n",
      "182 202 64 84\n",
      "156 176 107 127\n",
      "131 151 149 169\n",
      "181 201 150 170\n",
      "32 52 61 81\n",
      "108 128 20 40\n",
      "82 102 63 83\n",
      "56 76 105 125\n",
      "30 50 147 167\n",
      "132 152 64 84\n",
      "80 100 149 169\n",
      "182 202 65 85\n",
      "156 176 107 127\n",
      "130 150 150 170\n",
      "180 200 151 171\n",
      "33 53 60 80\n",
      "109 129 20 40\n",
      "83 103 62 82\n",
      "56 76 104 124\n",
      "30 50 147 167\n",
      "132 152 64 84\n",
      "80 100 148 168\n",
      "182 202 66 86\n",
      "156 176 108 128\n",
      "130 150 150 170\n",
      "180 200 152 172\n",
      "33 53 60 80\n",
      "110 130 20 40\n",
      "83 103 62 82\n",
      "56 76 104 124\n",
      "30 50 146 166\n",
      "133 153 64 84\n",
      "79 99 148 168\n",
      "183 203 67 87\n",
      "156 176 108 128\n",
      "129 149 150 170\n",
      "103 123 192 212\n",
      "179 199 153 173\n",
      "34 54 59 79\n",
      "111 131 20 40\n",
      "83 103 62 82\n",
      "56 76 103 123\n",
      "29 49 145 165\n",
      "133 153 65 85\n",
      "79 99 148 168\n",
      "183 203 67 87\n",
      "156 176 109 129\n",
      "129 149 151 171\n",
      "102 122 192 212\n",
      "179 199 154 174\n",
      "34 54 58 78\n",
      "111 131 20 40\n",
      "84 104 61 81\n",
      "56 76 103 123\n",
      "134 154 65 85\n",
      "79 99 148 168\n",
      "183 203 68 88\n",
      "156 176 110 130\n",
      "128 148 151 171\n",
      "101 121 192 212\n",
      "178 198 154 174\n",
      "35 55 57 77\n",
      "112 132 20 40\n",
      "84 104 61 81\n",
      "57 77 102 122\n",
      "134 154 65 85\n",
      "78 98 147 167\n",
      "184 204 69 89\n",
      "156 176 110 130\n",
      "128 148 151 171\n",
      "100 120 192 212\n",
      "178 198 155 175\n",
      "31 51 63 83\n",
      "106 126 20 40\n",
      "81 101 63 83\n",
      "56 76 106 126\n",
      "31 51 149 169\n",
      "131 151 63 83\n",
      "81 101 149 169\n",
      "181 201 63 83\n",
      "156 176 106 126\n",
      "131 151 149 169\n",
      "181 201 149 169\n",
      "32 52 62 82\n",
      "107 127 20 40\n",
      "82 102 63 83\n",
      "56 76 106 126\n",
      "31 51 148 168\n",
      "132 152 63 83\n",
      "81 101 149 169\n",
      "182 202 64 84\n",
      "156 176 107 127\n",
      "131 151 150 170\n",
      "181 201 150 170\n",
      "32 52 61 81\n",
      "108 128 20 40\n",
      "82 102 62 82\n",
      "56 76 105 125\n",
      "30 50 147 167\n",
      "132 152 64 84\n",
      "80 100 149 169\n",
      "182 202 65 85\n",
      "156 176 107 127\n",
      "130 150 150 170\n",
      "104 124 192 212\n",
      "180 200 151 171\n",
      "33 53 60 80\n",
      "109 129 20 40\n",
      "83 103 62 82\n",
      "56 76 104 124\n",
      "30 50 147 167\n",
      "132 152 64 84\n",
      "80 100 148 168\n",
      "182 202 66 86\n",
      "156 176 108 128\n",
      "130 150 150 170\n",
      "103 123 192 212\n",
      "180 200 152 172\n",
      "33 53 60 80\n",
      "110 130 20 40\n",
      "83 103 62 82\n",
      "56 76 104 124\n",
      "30 50 146 166\n",
      "133 153 64 84\n",
      "79 99 148 168\n",
      "183 203 66 86\n",
      "156 176 108 128\n",
      "129 149 150 170\n",
      "103 123 192 212\n",
      "179 199 153 173\n",
      "34 54 59 79\n",
      "111 131 20 40\n",
      "83 103 62 82\n",
      "56 76 103 123\n",
      "29 49 145 165\n",
      "133 153 64 84\n",
      "79 99 148 168\n",
      "183 203 67 87\n",
      "156 176 109 129\n",
      "129 149 151 171\n",
      "102 122 192 212\n",
      "179 199 153 173\n",
      "34 54 58 78\n",
      "111 131 20 40\n",
      "84 104 61 81\n",
      "56 76 103 123\n",
      "29 49 144 164\n",
      "134 154 65 85\n",
      "79 99 148 168\n",
      "183 203 68 88\n",
      "156 176 109 129\n",
      "128 148 151 171\n",
      "101 121 192 212\n",
      "178 198 154 174\n",
      "31 51 63 83\n",
      "106 126 20 40\n",
      "81 101 63 83\n",
      "56 76 106 126\n",
      "31 51 149 169\n",
      "131 151 63 83\n",
      "81 101 149 169\n",
      "181 201 63 83\n",
      "156 176 106 126\n",
      "131 151 149 169\n",
      "106 126 192 212\n",
      "181 201 149 169\n",
      "32 52 62 82\n",
      "107 127 20 40\n",
      "82 102 63 83\n",
      "56 76 106 126\n",
      "31 51 148 168\n",
      "132 152 63 83\n",
      "81 101 149 169\n",
      "182 202 64 84\n",
      "156 176 107 127\n",
      "131 151 150 170\n",
      "105 125 192 212\n",
      "181 201 150 170\n",
      "32 52 61 81\n",
      "108 128 20 40\n",
      "82 102 62 82\n",
      "56 76 105 125\n",
      "30 50 148 168\n",
      "132 152 64 84\n",
      "80 100 149 169\n",
      "182 202 65 85\n",
      "156 176 107 127\n",
      "130 150 150 170\n",
      "104 124 192 212\n",
      "180 200 151 171\n",
      "33 53 60 80\n",
      "109 129 20 40\n",
      "82 102 62 82\n",
      "56 76 104 124\n",
      "30 50 147 167\n",
      "132 152 64 84\n",
      "80 100 148 168\n",
      "182 202 65 85\n",
      "156 176 108 128\n",
      "130 150 150 170\n",
      "104 124 193 213\n",
      "180 200 152 172\n",
      "33 53 60 80\n",
      "110 130 20 40\n",
      "83 103 62 82\n",
      "56 76 104 124\n",
      "30 50 146 166\n",
      "133 153 64 84\n",
      "79 99 148 168\n",
      "183 203 66 86\n",
      "156 176 108 128\n",
      "129 149 150 170\n",
      "103 123 193 213\n",
      "179 199 153 173\n",
      "34 54 59 79\n",
      "111 131 20 40\n",
      "83 103 62 82\n",
      "56 76 103 123\n",
      "29 49 145 165\n",
      "133 153 64 84\n",
      "79 99 148 168\n",
      "183 203 67 87\n",
      "156 176 109 129\n",
      "129 149 151 171\n",
      "102 122 193 213\n",
      "179 199 153 173\n",
      "31 51 63 83\n",
      "106 126 20 40\n",
      "81 101 63 83\n",
      "56 76 106 126\n",
      "31 51 149 169\n",
      "131 151 63 83\n",
      "81 101 149 169\n",
      "181 201 63 83\n",
      "156 176 106 126\n",
      "131 151 149 169\n",
      "106 126 192 212\n",
      "181 201 149 169\n",
      "32 52 62 82\n",
      "107 127 20 40\n",
      "82 102 63 83\n",
      "56 76 106 126\n",
      "31 51 149 169\n",
      "132 152 63 83\n",
      "81 101 149 169\n",
      "182 202 64 84\n",
      "156 176 107 127\n",
      "131 151 150 170\n",
      "105 125 193 213\n",
      "181 201 150 170\n",
      "32 52 61 81\n",
      "108 128 20 40\n",
      "82 102 62 82\n",
      "56 76 105 125\n",
      "30 50 148 168\n",
      "132 152 63 83\n",
      "80 100 149 169\n",
      "182 202 65 85\n",
      "156 176 107 127\n",
      "130 150 150 170\n",
      "104 124 193 213\n",
      "180 200 151 171\n",
      "33 53 60 80\n",
      "109 129 20 40\n",
      "82 102 62 82\n",
      "56 76 105 125\n",
      "30 50 147 167\n",
      "132 152 64 84\n",
      "80 100 149 169\n",
      "182 202 65 85\n",
      "156 176 108 128\n",
      "130 150 150 170\n",
      "104 124 193 213\n",
      "180 200 152 172\n",
      "33 53 60 80\n",
      "110 130 20 40\n",
      "83 103 62 82\n",
      "56 76 104 124\n",
      "30 50 146 166\n",
      "133 153 64 84\n",
      "79 99 148 168\n",
      "183 203 66 86\n",
      "156 176 108 128\n",
      "129 149 150 170\n",
      "103 123 193 213\n",
      "179 199 153 173\n",
      "31 51 63 83\n",
      "106 126 20 40\n",
      "81 101 63 83\n",
      "56 76 106 126\n",
      "31 51 149 169\n",
      "131 151 63 83\n",
      "81 101 149 169\n",
      "181 201 63 83\n",
      "156 176 106 126\n",
      "131 151 149 169\n",
      "106 126 193 213\n",
      "181 201 149 169\n",
      "32 52 62 82\n",
      "107 127 20 40\n",
      "82 102 63 83\n",
      "56 76 106 126\n",
      "31 51 149 169\n",
      "132 152 63 83\n",
      "81 101 149 169\n",
      "182 202 64 84\n",
      "156 176 107 127\n",
      "131 151 150 170\n",
      "105 125 193 213\n",
      "181 201 150 170\n",
      "32 52 61 81\n",
      "108 128 20 40\n",
      "82 102 62 82\n",
      "56 76 105 125\n",
      "30 50 148 168\n",
      "132 152 63 83\n",
      "80 100 149 169\n",
      "182 202 65 85\n",
      "156 176 107 127\n",
      "130 150 150 170\n",
      "104 124 193 213\n",
      "180 200 151 171\n",
      "33 53 60 80\n",
      "109 129 20 40\n",
      "82 102 62 82\n",
      "56 76 105 125\n",
      "30 50 147 167\n",
      "132 152 64 84\n",
      "80 100 149 169\n",
      "182 202 65 85\n",
      "156 176 108 128\n",
      "130 150 150 170\n",
      "104 124 193 213\n",
      "180 200 152 172\n",
      "31 51 63 83\n",
      "106 126 20 40\n",
      "81 101 63 83\n",
      "56 76 106 126\n",
      "31 51 149 169\n",
      "131 151 63 83\n",
      "81 101 149 169\n",
      "181 201 63 83\n",
      "156 176 106 126\n",
      "131 151 149 169\n",
      "106 126 193 213\n",
      "181 201 149 169\n",
      "32 52 62 82\n",
      "107 127 20 40\n",
      "82 102 63 83\n",
      "56 76 106 126\n",
      "31 51 149 169\n",
      "132 152 63 83\n",
      "81 101 149 169\n",
      "182 202 64 84\n",
      "156 176 107 127\n",
      "131 151 150 170\n",
      "105 125 193 213\n",
      "181 201 150 170\n",
      "32 52 61 81\n",
      "108 128 20 40\n",
      "82 102 62 82\n",
      "56 76 105 125\n",
      "30 50 148 168\n",
      "132 152 63 83\n",
      "80 100 149 169\n",
      "182 202 64 84\n",
      "156 176 107 127\n",
      "130 150 150 170\n",
      "104 124 193 213\n",
      "180 200 151 171\n",
      "31 51 63 83\n",
      "106 126 20 40\n",
      "81 101 63 83\n",
      "56 76 106 126\n",
      "31 51 149 169\n",
      "131 151 63 83\n",
      "81 101 149 169\n",
      "181 201 63 83\n",
      "156 176 106 126\n",
      "131 151 149 169\n",
      "106 126 193 213\n",
      "181 201 149 169\n",
      "32 52 62 82\n",
      "107 127 20 40\n",
      "82 102 63 83\n",
      "56 76 106 126\n",
      "31 51 149 169\n",
      "132 152 63 83\n",
      "81 101 149 169\n",
      "182 202 64 84\n",
      "156 176 107 127\n",
      "131 151 150 170\n",
      "105 125 193 213\n",
      "181 201 150 170\n",
      "31 51 63 83\n",
      "106 126 20 40\n",
      "81 101 63 83\n",
      "56 76 106 126\n",
      "31 51 149 169\n",
      "131 151 63 83\n",
      "81 101 149 169\n",
      "181 201 63 83\n",
      "156 176 106 126\n",
      "131 151 149 169\n",
      "106 126 193 213\n",
      "181 201 149 169\n",
      "37 57 54 74\n",
      "116 136 20 40\n",
      "86 106 60 80\n",
      "57 77 100 120\n",
      "135 155 66 86\n",
      "77 97 146 166\n",
      "155 175 112 132\n",
      "126 146 152 172\n",
      "97 117 192 212\n",
      "175 195 158 178\n",
      "37 57 55 75\n",
      "115 135 20 40\n",
      "86 106 60 80\n",
      "57 77 101 121\n",
      "135 155 66 86\n",
      "77 97 146 166\n",
      "155 175 112 132\n",
      "126 146 152 172\n",
      "97 117 192 212\n",
      "176 196 157 177\n",
      "36 56 56 76\n",
      "114 134 20 40\n",
      "85 105 61 81\n",
      "57 77 101 121\n",
      "135 155 66 86\n",
      "78 98 147 167\n",
      "156 176 111 131\n",
      "127 147 152 172\n",
      "98 118 192 212\n",
      "176 196 157 177\n",
      "35 55 57 77\n",
      "113 133 20 40\n",
      "85 105 61 81\n",
      "57 77 102 122\n",
      "134 154 65 85\n",
      "78 98 147 167\n",
      "184 204 70 90\n",
      "156 176 110 130\n",
      "127 147 151 171\n",
      "99 119 192 212\n",
      "177 197 156 176\n",
      "35 55 57 77\n",
      "112 132 20 40\n",
      "84 104 61 81\n",
      "56 76 102 122\n",
      "134 154 65 85\n",
      "78 98 147 167\n",
      "184 204 69 89\n",
      "156 176 110 130\n",
      "128 148 151 171\n",
      "100 120 192 212\n",
      "178 198 155 175\n",
      "34 54 58 78\n",
      "111 131 20 40\n",
      "84 104 61 81\n",
      "56 76 103 123\n",
      "29 49 145 165\n",
      "134 154 65 85\n",
      "79 99 148 168\n",
      "183 203 68 88\n",
      "156 176 109 129\n",
      "128 148 151 171\n",
      "101 121 193 213\n",
      "178 198 154 174\n",
      "34 54 59 79\n",
      "111 131 20 40\n",
      "83 103 62 82\n",
      "56 76 104 124\n",
      "29 49 145 165\n",
      "133 153 64 84\n",
      "79 99 148 168\n",
      "183 203 67 87\n",
      "156 176 109 129\n",
      "129 149 151 171\n",
      "102 122 193 213\n",
      "179 199 153 173\n",
      "33 53 60 80\n",
      "110 130 20 40\n",
      "83 103 62 82\n",
      "56 76 104 124\n",
      "30 50 146 166\n",
      "133 153 64 84\n",
      "79 99 148 168\n",
      "183 203 66 86\n",
      "156 176 108 128\n",
      "129 149 150 170\n",
      "103 123 193 213\n",
      "179 199 153 173\n",
      "33 53 61 81\n",
      "109 129 20 40\n",
      "82 102 62 82\n",
      "56 76 105 125\n",
      "30 50 147 167\n",
      "132 152 64 84\n",
      "80 100 149 169\n",
      "182 202 65 85\n",
      "156 176 108 128\n",
      "130 150 150 170\n",
      "104 124 193 213\n",
      "180 200 152 172\n",
      "32 52 61 81\n",
      "108 128 20 40\n",
      "82 102 62 82\n",
      "56 76 105 125\n",
      "30 50 148 168\n",
      "132 152 63 83\n",
      "80 100 149 169\n",
      "182 202 64 84\n",
      "156 176 107 127\n",
      "130 150 150 170\n",
      "104 124 193 213\n",
      "180 200 151 171\n",
      "32 52 62 82\n",
      "107 127 20 40\n",
      "82 102 63 83\n",
      "56 76 106 126\n",
      "31 51 149 169\n",
      "132 152 63 83\n",
      "81 101 149 169\n",
      "182 202 64 84\n",
      "156 176 107 127\n",
      "131 151 150 170\n",
      "105 125 193 213\n",
      "181 201 150 170\n",
      "31 51 63 83\n",
      "106 126 20 40\n",
      "81 101 63 83\n",
      "56 76 106 126\n",
      "31 51 149 169\n",
      "131 151 63 83\n",
      "81 101 149 169\n",
      "181 201 63 83\n",
      "156 176 106 126\n",
      "131 151 149 169\n",
      "106 126 193 213\n",
      "181 201 149 169\n"
     ]
    }
   ],
   "source": [
    "# def create_gaussian(width, height, max_intensity):\n",
    "#     \"\"\"Create a 2D Gaussian. With this we have the option of defining an asymmetric Gaussian\"\"\"\n",
    "#     sigma_x = width / 3.0\n",
    "#     sigma_y = height / 3.0\n",
    "#     x = np.linspace(-width / 2, width / 2, width)\n",
    "#     y = np.linspace(-height / 2, height / 2, height)\n",
    "#     x, y = np.meshgrid(x, y)\n",
    "#     gaussian = max_intensity * np.exp(-(x**2 / (2.0 * sigma_x**2) + y**2 / (2.0 * sigma_y**2)))\n",
    "\n",
    "#     # Apply a Hanning window to the Gaussian\n",
    "#     window = np.outer(np.hanning(width), np.hanning(width))\n",
    "#     gaussian *= window\n",
    "\n",
    "#     return gaussian\n",
    "\n",
    "\n",
    "def create_gaussian(size, _, max_intensity):  # Change 'width' and 'height' to 'size' and '_'\n",
    "    \"\"\"Create a round 2D Gaussian.\"\"\"\n",
    "    sigma = size / 3.0\n",
    "    x = np.linspace(-size / 2, size / 2, size)\n",
    "    y = np.linspace(-size / 2, size / 2, size)\n",
    "    x, y = np.meshgrid(x, y)\n",
    "    gaussian = max_intensity * np.exp(-(x**2 + y**2) / (2.0 * sigma**2))\n",
    "\n",
    "    # Apply a Hanning window to the Gaussian\n",
    "    window = np.outer(np.hanning(size), np.hanning(size))\n",
    "    gaussian *= window\n",
    "\n",
    "    return gaussian\n",
    "\n",
    "\n",
    "# Parameters\n",
    "peak_diam = 20  # Already in calibrated units\n",
    "max_avg_int = 20  # Already in calibrated units\n",
    "\n",
    "# Initialize an empty list to store the modified patterns\n",
    "modified_patterns = []\n",
    "\n",
    "# Get the simulations\n",
    "simulations = diff_lib['aFe']['simulations']\n",
    "\n",
    "# Find the maximum and minimum coordinates in all simulations\n",
    "max_coord = np.max([np.max(sim.calibrated_coordinates) for sim in simulations])\n",
    "min_coord = np.min([np.min(sim.calibrated_coordinates) for sim in simulations])\n",
    "\n",
    "# Calculate the size of the largest pattern plus the additional Gaussian width\n",
    "extra_padding = 20\n",
    "pattern_size = int(max_coord - min_coord + 2*peak_diam + extra_padding)\n",
    "\n",
    "# Loop over each simulation\n",
    "for sim in simulations:\n",
    "    # Create an empty 2D array with the fixed size\n",
    "    modified_pattern = np.zeros((pattern_size, pattern_size))\n",
    "\n",
    "    # Get the coordinates and shift them to the new coordinate system\n",
    "    coordinates = sim.calibrated_coordinates - min_coord + 1.5*extra_padding #/ 2 usind e.p. of 1.5 leads to a more centered pattern\n",
    "\n",
    "    # Loop over each peak in the simulation\n",
    "    for peak in coordinates:\n",
    "        # Define the center of the Gaussian\n",
    "        center_x = int(peak[0])\n",
    "        center_y = int(peak[1])\n",
    "    \n",
    "        # Define the region where the Gaussian will be added\n",
    "        start_x = max(center_x - peak_diam // 2, 0)\n",
    "        stop_x = min(center_x + peak_diam // 2, pattern_size)\n",
    "        start_y = max(center_y - peak_diam // 2, 0)\n",
    "        stop_y = min(center_y + peak_diam // 2, pattern_size)\n",
    "        print(start_x, stop_x, start_y, stop_y)\n",
    "        # Calculate the size of the region\n",
    "        region_size = (stop_x - start_x, stop_y - start_y)\n",
    "    \n",
    "        # Create a 2D Gaussian with the desired intensity and the exact size of the region\n",
    "        gaussian = create_gaussian(region_size[1], region_size[0], max_avg_int)\n",
    " #       gaussian = create_gaussian(*region_size, max_avg_int)\n",
    "        \n",
    "        # Add the Gaussian to the region of the modified pattern\n",
    "        modified_pattern[start_x:stop_x, start_y:stop_y] += gaussian\n",
    "\n",
    "    # Append the modified pattern to the list\n",
    "    modified_patterns.append(modified_pattern)\n",
    "\n",
    "# Find the size of the largest pattern\n",
    "max_pattern_size = max(max(pattern.shape) for pattern in modified_patterns)\n",
    "\n",
    "# Pad all patterns to the size of the largest pattern\n",
    "padded_patterns = [np.pad(pattern, ((0, max_pattern_size - pattern.shape[0]), \n",
    "                                      (0, max_pattern_size - pattern.shape[1]))) \n",
    "                    for pattern in modified_patterns]\n",
    "\n",
    "# Convert the list of padded patterns into a numpy array\n",
    "padded_patterns_array = np.array(padded_patterns)\n",
    "\n",
    "# Convert the numpy array into a HyperSpy Signal2D object\n",
    "modified_patterns_signal = Signal2D(padded_patterns_array)\n",
    "modified_patterns_signal.plot()\n",
    "#modified_patterns_signal.save(r'sim.hspy')"
   ]
  },
  {
   "cell_type": "markdown",
   "id": "7cefa3b6-4a89-4c69-b8ab-162c16ca7c34",
   "metadata": {},
   "source": [
    "## Here the code for creating Signal2D  objects from simulated data, that look more like real SPED data \n",
    "Here I use object oriented style so it is easier to work with simulations of different structures in the same dataset. The functions in the class are independent of the simulated data."
   ]
  },
  {
   "cell_type": "code",
   "execution_count": 369,
   "id": "3a35a731-347d-4e6e-8cea-f9d2edc17d95",
   "metadata": {},
   "outputs": [],
   "source": [
    "class GaussianPattern:\n",
    "    def __init__(self, peak_diam, max_avg_int, extra_padding):\n",
    "        self.peak_diam = peak_diam\n",
    "        self.max_avg_int = max_avg_int\n",
    "        self.extra_padding = extra_padding\n",
    "        self.patterns = []\n",
    "\n",
    "    def create_gaussian(self, size, _):\n",
    "        sigma = size / 3.0\n",
    "        x = np.linspace(-size / 2, size / 2, size)\n",
    "        y = np.linspace(-size / 2, size / 2, size)\n",
    "        x, y = np.meshgrid(x, y)\n",
    "        gaussian = self.max_avg_int * np.exp(-(x**2 + y**2) / (2.0 * sigma**2))\n",
    "        window = np.outer(np.hanning(size), np.hanning(size))\n",
    "        gaussian *= window\n",
    "        return gaussian\n",
    "\n",
    "    def add_pattern(self, simulation):\n",
    "        max_coord = np.max(simulation.calibrated_coordinates)\n",
    "        min_coord = np.min(simulation.calibrated_coordinates)\n",
    "        pattern_size = int(max_coord - min_coord + 2*self.peak_diam + self.extra_padding)\n",
    "        modified_pattern = np.zeros((pattern_size, pattern_size))\n",
    "        coordinates = simulation.calibrated_coordinates - min_coord + 1.5*self.extra_padding\n",
    "        for peak in coordinates:\n",
    "            center_x = int(peak[0])\n",
    "            center_y = int(peak[1])\n",
    "            start_x = max(center_x - self.peak_diam // 2, 0)\n",
    "            stop_x = min(center_x + self.peak_diam // 2, pattern_size)\n",
    "            start_y = max(center_y - self.peak_diam // 2, 0)\n",
    "            stop_y = min(center_y + self.peak_diam // 2, pattern_size)\n",
    "            region_size = (stop_x - start_x, stop_y - start_y)\n",
    "            gaussian = self.create_gaussian(region_size[1], region_size[0])\n",
    "            modified_pattern[start_x:stop_x, start_y:stop_y] += gaussian\n",
    "        self.patterns.append(modified_pattern)\n",
    "\n",
    "    def pad_patterns(self):\n",
    "        max_pattern_size = max(max(pattern.shape) for pattern in self.patterns)\n",
    "        return [np.pad(pattern, ((0, max_pattern_size - pattern.shape[0]), \n",
    "                                  (0, max_pattern_size - pattern.shape[1]))) \n",
    "                for pattern in self.patterns]\n",
    "\n",
    "    def to_signal(self):\n",
    "        padded_patterns_array = np.array(self.pad_patterns())\n",
    "        return Signal2D(padded_patterns_array)\n",
    "\n"
   ]
  },
  {
   "cell_type": "markdown",
   "id": "1c4a81de-e7d4-47b3-9deb-f116fc8c3694",
   "metadata": {},
   "source": [
    "Here we execute and plot the simulated data of different structures:"
   ]
  },
  {
   "cell_type": "code",
   "execution_count": 374,
   "id": "63492449-f55a-4eb0-9a71-5e6249ef9530",
   "metadata": {},
   "outputs": [],
   "source": [
    "# Usage:\n",
    "gaussian_pattern = GaussianPattern(peak_diam=20, max_avg_int=20, extra_padding=20)\n",
    "for sim in diff_lib['aFe']['simulations']:\n",
    "    gaussian_pattern.add_pattern(sim)\n",
    "signal = gaussian_pattern.to_signal()\n",
    "signal.plot()\n"
   ]
  },
  {
   "cell_type": "code",
   "execution_count": 322,
   "id": "90ac3936-87fa-4231-9ef0-4bd61bc8e5af",
   "metadata": {},
   "outputs": [
    {
     "data": {
      "text/plain": [
       "<Signal2D, title: , dimensions: (78|185, 185)>"
      ]
     },
     "execution_count": 322,
     "metadata": {},
     "output_type": "execute_result"
    }
   ],
   "source": [
    "# Usage:\n",
    "gaussian_pattern = GaussianPattern(peak_diam=20, max_avg_int=20, extra_padding=20)\n",
    "for sim in diff_lib['FeC']['simulations']:\n",
    "    gaussian_pattern.add_pattern(sim)\n",
    "signal = gaussian_pattern.to_signal()\n",
    "signal.plot()\n"
   ]
  },
  {
   "cell_type": "code",
   "execution_count": 372,
   "id": "ba0b3eca-8dee-4ff1-b6fb-5a3fd444094f",
   "metadata": {
    "scrolled": true
   },
   "outputs": [],
   "source": [
    "# Usage:\n",
    "gaussian_pattern = GaussianPattern(peak_diam=20, max_avg_int=20, extra_padding=20)\n",
    "for sim in diff_lib['MnS']['simulations']:\n",
    "    gaussian_pattern.add_pattern(sim)\n",
    "signal = gaussian_pattern.to_signal()\n",
    "signal.plot()\n"
   ]
  },
  {
   "cell_type": "code",
   "execution_count": 312,
   "id": "1a88b9f7-19f6-4823-97e9-28d21c3a9497",
   "metadata": {},
   "outputs": [
    {
     "data": {
      "text/plain": [
       "<Signal2D, title: , dimensions: (78|185, 185)>"
      ]
     },
     "execution_count": 312,
     "metadata": {},
     "output_type": "execute_result"
    }
   ],
   "source": [
    "modified_patterns_signal"
   ]
  },
  {
   "cell_type": "code",
   "execution_count": 74,
   "id": "ed754954-6322-4b1f-94f2-7fd0f6d7c3fc",
   "metadata": {},
   "outputs": [
    {
     "data": {
      "text/plain": [
       "array([[-71.8620349 , -48.41621023],\n",
       "       [-22.13211059, -44.62412953],\n",
       "       [-49.72992431,  -3.79208069],\n",
       "       [ 27.59781371, -40.83204884],\n",
       "       [-27.59781371,  40.83204884],\n",
       "       [ 49.72992431,   3.79208069],\n",
       "       [ 22.13211059,  44.62412953],\n",
       "       [ 71.8620349 ,  48.41621023]])"
      ]
     },
     "execution_count": 74,
     "metadata": {},
     "output_type": "execute_result"
    }
   ],
   "source": [
    "sim.calibrated_coordinates"
   ]
  },
  {
   "cell_type": "code",
   "execution_count": null,
   "id": "74f1fc7e-bcc1-47c4-983c-d05c9c429a3a",
   "metadata": {},
   "outputs": [],
   "source": []
  },
  {
   "cell_type": "code",
   "execution_count": null,
   "id": "59ca0f9f-be47-4e11-83fc-17b8163bafba",
   "metadata": {
    "scrolled": true
   },
   "outputs": [],
   "source": [
    "sim.calibrated_coordinates"
   ]
  },
  {
   "cell_type": "code",
   "execution_count": null,
   "id": "c72c46a4-e9cc-4784-92ca-5efa592a4a29",
   "metadata": {
    "scrolled": true
   },
   "outputs": [],
   "source": [
    "%matplotlib qt\n",
    "# Convert the list of modified patterns to a 3D numpy array\n",
    "modified_patterns_array = np.dstack(modified_patterns)\n",
    "\n",
    "# Transpose the array to get the correct orientation\n",
    "modified_patterns_array = np.transpose(modified_patterns_array, (2, 0, 1))\n",
    "\n",
    "# Convert the 3D array to a Signal2D object\n",
    "signal = Signal2D(modified_patterns_array)\n",
    "\n",
    "# Plot the signal\n",
    "signal.plot()\n"
   ]
  },
  {
   "cell_type": "code",
   "execution_count": null,
   "id": "d8e7abf4-ad16-4f19-b72c-5292e083b224",
   "metadata": {},
   "outputs": [],
   "source": [
    "modified_patterns"
   ]
  },
  {
   "cell_type": "code",
   "execution_count": null,
   "id": "4fa2eff0-a48c-452e-be3f-1c5dbaee3627",
   "metadata": {},
   "outputs": [],
   "source": [
    "simulation.calibrated_coordinates"
   ]
  },
  {
   "cell_type": "markdown",
   "id": "b042656e-c237-421e-889e-de4738176158",
   "metadata": {},
   "source": [
    "# 3. Template matching\n",
    "\n",
    "## 3a. Pre-processing\n",
    "The SPED dataset has already been centered and calibrated, which is crucial as pre-processing steps before template matching. Depending on the state of your TEM and detection system, distortion correction can also be crucial before the template matching, but this was not done here.\n",
    "\n",
    "Due to the weak reflections, a log-shift transform can be applied to all experimental patterns prior to template matching. We define this as a new function. The small added shift, a, amplifies weak reflection but also noise and must be used with caution depending on the dataset.\n",
    "set."
   ]
  },
  {
   "cell_type": "code",
   "execution_count": null,
   "id": "f2df9f59-e37b-4ffd-b217-45f45c2ff543",
   "metadata": {},
   "outputs": [],
   "source": [
    "def log_shift(dp):\n",
    "    a = 0.001*np.max(dp.max().data)\n",
    "    log_shift = np.log10(dp+a) - np.log10(a)\n",
    "    return log_shift"
   ]
  },
  {
   "cell_type": "markdown",
   "id": "4b7f6add-336f-4062-9bfc-b3db373f6fca",
   "metadata": {},
   "source": [
    "Using the map function, the log_shift function can easily be applied to each pattern.\r\n",
    "\r\n"
   ]
  },
  {
   "cell_type": "code",
   "execution_count": null,
   "id": "e6904b0b-5c62-4f19-aa7d-632d78ca735a",
   "metadata": {},
   "outputs": [],
   "source": [
    "dp_log_shift = dp.map(function=log_shift, inplace=False)\n"
   ]
  },
  {
   "cell_type": "markdown",
   "id": "03eba184-900c-4d6b-9cce-30c640054a59",
   "metadata": {},
   "source": [
    "We can plot the signals side by side using the same navigator to easily see the difference between the original and the signal after applying log shift. Note also the difference in the navigation images, with less strain contrast and more \"high angle\"-like contrast appearing after applying the log_shift."
   ]
  },
  {
   "cell_type": "code",
   "execution_count": null,
   "id": "0a4ac327-d694-4ed8-8ea2-5c58439863d1",
   "metadata": {},
   "outputs": [],
   "source": [
    "hs.plot.plot_signals([dp, dp_log_shift], cmap='magma_r')\n"
   ]
  },
  {
   "cell_type": "markdown",
   "id": "80a7ae97-6f40-454b-b22a-ea3abd2b15c1",
   "metadata": {},
   "source": [
    "## 3b. Normalised cross correlation\r\n",
    "We define the maximum radius that will be considered in the cross correlation for template matching. By default, this will be the length from the center of a pattern to the corner (half diagonal). We set it to half the size of the pattern, to avoid using the highest scattering angles where the noise is largest. This variable has units of pixels."
   ]
  },
  {
   "cell_type": "code",
   "execution_count": null,
   "id": "fee11ec7-2e7d-45e8-8a36-f058d49918b2",
   "metadata": {},
   "outputs": [],
   "source": [
    "max_r = 50 # Is binning an option? from 256 -> 128\n"
   ]
  },
  {
   "cell_type": "markdown",
   "id": "7dbfbfb2-a193-4656-a9a8-c81cb6d4c6de",
   "metadata": {},
   "source": [
    "Perform the template matching, including finding the in-plane rotations.\r\n",
    "\r\n"
   ]
  },
  {
   "cell_type": "code",
   "execution_count": null,
   "id": "067e5cca-4a87-4d9c-8b5b-f61406583b7f",
   "metadata": {},
   "outputs": [],
   "source": [
    "result, phasedict = iutls.index_dataset_with_template_rotation(\n",
    "    dp_log_shift, diff_lib, max_r=max_r) "
   ]
  },
  {
   "cell_type": "markdown",
   "id": "348b2788-da4a-4658-852b-4f19623c31a5",
   "metadata": {},
   "source": [
    "# 4. Visualising the results from template matching\n",
    "We define a crystal map that contains the results from the template matching.\r\n",
    "\r\n",
    "\r\n"
   ]
  },
  {
   "cell_type": "code",
   "execution_count": null,
   "id": "559d0a3e-fc38-4cde-a3a2-a093d729448a",
   "metadata": {},
   "outputs": [],
   "source": [
    "xmap = iutls.results_dict_to_crystal_map(\n",
    "    results=result, phase_key_dict=phasedict, diffraction_library=diff_lib)\n"
   ]
  },
  {
   "cell_type": "markdown",
   "id": "022fac60-2082-4634-a871-87e6b4788ac4",
   "metadata": {},
   "source": [
    "We can plot the crystal map, which will plot the phase map.\r\n",
    "\r\n"
   ]
  },
  {
   "cell_type": "code",
   "execution_count": null,
   "id": "c22075dd-60c5-474b-a892-caa2bc7383cd",
   "metadata": {},
   "outputs": [],
   "source": [
    "xmap.plot()"
   ]
  },
  {
   "cell_type": "code",
   "execution_count": null,
   "id": "6b5d5883-5917-4bd9-801d-736ae58c4ff7",
   "metadata": {},
   "outputs": [],
   "source": [
    "xmap\n"
   ]
  },
  {
   "cell_type": "markdown",
   "id": "f1a518b1-831a-4df1-895c-2004f00a1e76",
   "metadata": {},
   "source": [
    "Before we can plot the orientations, we must define the symmetries of each phases contained within the crystal map.\r\n",
    "\r\n"
   ]
  },
  {
   "cell_type": "code",
   "execution_count": null,
   "id": "c35a3c93-f638-4146-aea2-f82c854ca404",
   "metadata": {},
   "outputs": [],
   "source": [
    "#xmap.phases[\"aFe\"].point_group = symmetry_aFe\n",
    "xmap.phases[\"FeC\"].point_group = symmetry_FeC\n",
    "#xmap.phases[\"MnS\"].point_group = symmetry_MnS"
   ]
  },
  {
   "cell_type": "markdown",
   "id": "b774e84d-5f51-46fc-824d-8e1699f78607",
   "metadata": {},
   "source": [
    "Define the IPF colours that will be used to plot the orientations of each phase.\r\n",
    "\r\n"
   ]
  },
  {
   "cell_type": "code",
   "execution_count": null,
   "id": "10f2d649-8807-47a8-abca-cfd6dc7bcf55",
   "metadata": {},
   "outputs": [],
   "source": [
    "from orix import plot\n"
   ]
  },
  {
   "cell_type": "code",
   "execution_count": null,
   "id": "38daf6ac-be17-4814-990e-287a4498b32c",
   "metadata": {},
   "outputs": [],
   "source": [
    "#key_aFe = plot.IPFColorKeyTSL(symmetry_aFe)\n",
    "key_FeC = plot.IPFColorKeyTSL(symmetry_FeC)\n",
    "#key_MnS = plot.IPFColorKeyTSL(symmetry_MnS)"
   ]
  },
  {
   "cell_type": "markdown",
   "id": "18247892-cf58-419b-943d-bec827c15229",
   "metadata": {},
   "source": [
    "Plot the IPF colour keys\n",
    "\n"
   ]
  },
  {
   "cell_type": "code",
   "execution_count": null,
   "id": "ed5d53f9-69f4-4c4f-903f-56e86d827028",
   "metadata": {},
   "outputs": [],
   "source": [
    "key_aFe.plot()\n",
    "#key_FeC.plot()\n",
    "#key_MnS.plot()"
   ]
  },
  {
   "cell_type": "code",
   "execution_count": null,
   "id": "f36ebee9-3ce0-46cb-99b3-d146c5c0be44",
   "metadata": {},
   "outputs": [],
   "source": [
    "colours_aFe = key_aFe.orientation2color(xmap[\"aFe\"].orientations)\n",
    "#colours_FeC = key_FeC.orientation2color(xmap[\"FeC\"].orientations)\n",
    "#colours_MnS = key_MnS.orientation2color(xmap[\"MnS\"].orientations)"
   ]
  },
  {
   "cell_type": "markdown",
   "id": "0ac265a6-54c1-4b76-aee9-11a9cc09aba3",
   "metadata": {},
   "source": [
    "\n",
    "Plot the orientations per phase with the given colour keys from the IPFs.\r\n",
    "\r\n",
    " "
   ]
  },
  {
   "cell_type": "code",
   "execution_count": null,
   "id": "df5e3abc-0f83-4145-a1a1-3796b70ec315",
   "metadata": {},
   "outputs": [],
   "source": [
    "xmap['aFe'].plot(colours_aFe)\n",
    "#xmap['FeC'].plot(colours_FeC)\n",
    "#xmap['MnS'].plot(colours_MnS)"
   ]
  },
  {
   "cell_type": "markdown",
   "id": "dd27aa91-7452-41fe-ba0b-5ccae0b4997b",
   "metadata": {},
   "source": [
    "\n",
    "Plot the correlation scores of the best matches. Identify areas where the template matching did not get a high correlation score.\r\n",
    "\r\n"
   ]
  },
  {
   "cell_type": "code",
   "execution_count": null,
   "id": "579d47ec-29da-45a8-8678-6766d5f9e787",
   "metadata": {},
   "outputs": [],
   "source": [
    "xmap.plot('correlation', colorbar=True)\n"
   ]
  },
  {
   "cell_type": "markdown",
   "id": "053d69dc-5d31-4f37-b735-00414c4ec2c6",
   "metadata": {},
   "source": [
    "In the future, there should be a function allowing to plot the best matching template on top of the PED pattern in each pixel of the SPED scan. That would be an extremenely useful tool when we want to check the results visually.\r\n",
    "\r\n",
    "For now, we will do this for one pattern at a time."
   ]
  },
  {
   "cell_type": "code",
   "execution_count": null,
   "id": "b20fa3b2-8b03-49fb-95ce-29d651038a1e",
   "metadata": {},
   "outputs": [],
   "source": [
    "i = 0\n",
    "j = 5#60\n",
    "dp_i = dp.inav[i, j]\n",
    "template_index = xmap.get_map_data(xmap.template_index)[i, j]\n",
    "phase_index = xmap.get_map_data('phase_id')[i, j]\n",
    "simulation_i = diff_lib[phasedict[phase_index]]['simulations'][template_index]"
   ]
  },
  {
   "cell_type": "code",
   "execution_count": null,
   "id": "be6f2b8d-13df-4c2f-b82c-5c883539724f",
   "metadata": {},
   "outputs": [],
   "source": [
    "%matplotlib inline\n",
    "a_i, c_i = iutls.get_in_plane_rotation_correlation(dp_i.data, simulation_i)\n",
    "in_plane_angle = a_i[np.argmax(c_i)]\n",
    "in_plane_angle"
   ]
  },
  {
   "cell_type": "code",
   "execution_count": null,
   "id": "26b2b5bf-0dbf-486e-946a-d35b43f72002",
   "metadata": {},
   "outputs": [],
   "source": [
    "putls.plot_template_over_pattern(dp_i.data,\n",
    "                                 simulation_i,\n",
    "                                 in_plane_angle=in_plane_angle,\n",
    "                                 norm=LogNorm())"
   ]
  },
  {
   "cell_type": "code",
   "execution_count": null,
   "id": "6fc8d733-3748-411f-bece-6629c331865b",
   "metadata": {},
   "outputs": [],
   "source": []
  },
  {
   "cell_type": "code",
   "execution_count": null,
   "id": "517e103c-3250-4580-a67e-34a1c9f79cfb",
   "metadata": {},
   "outputs": [],
   "source": []
  }
 ],
 "metadata": {
  "kernelspec": {
   "display_name": "Python 3 (ipykernel)",
   "language": "python",
   "name": "python3"
  },
  "language_info": {
   "codemirror_mode": {
    "name": "ipython",
    "version": 3
   },
   "file_extension": ".py",
   "mimetype": "text/x-python",
   "name": "python",
   "nbconvert_exporter": "python",
   "pygments_lexer": "ipython3",
   "version": "3.11.6"
  }
 },
 "nbformat": 4,
 "nbformat_minor": 5
}
